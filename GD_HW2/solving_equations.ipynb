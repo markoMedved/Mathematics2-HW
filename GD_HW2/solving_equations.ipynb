{
 "cells": [
  {
   "cell_type": "code",
   "execution_count": 9,
   "id": "f3ab2323",
   "metadata": {},
   "outputs": [],
   "source": [
    "from sympy import symbols, Eq, solve, simplify"
   ]
  },
  {
   "cell_type": "code",
   "execution_count": 59,
   "id": "4e242783",
   "metadata": {},
   "outputs": [
    {
     "name": "stdout",
     "output_type": "stream",
     "text": [
      "(-2*gamma*x3 - x2 + x3)/(x2 - x3)\n"
     ]
    }
   ],
   "source": [
    "x2,x3, gamma, mew  = symbols(\"x2 x3 gamma mew\")\n",
    "eq1 = Eq(x2, -1 + 2*gamma)\n",
    "eq2 = Eq(x3, x2 - 2*gamma*x3 + mew*(x3 - x2))\n",
    "eq3 = Eq(x2, x3 - 2*gamma*x3 + mew*(x3 - x2))\n",
    "\n",
    "\n",
    "solution = solve((eq1, eq1, eq3), mew, dict=True)\n",
    "mew_expr = simplify(solution[0][mew])\n",
    "print(mew_expr)\n"
   ]
  }
 ],
 "metadata": {
  "kernelspec": {
   "display_name": "cv",
   "language": "python",
   "name": "python3"
  },
  "language_info": {
   "codemirror_mode": {
    "name": "ipython",
    "version": 3
   },
   "file_extension": ".py",
   "mimetype": "text/x-python",
   "name": "python",
   "nbconvert_exporter": "python",
   "pygments_lexer": "ipython3",
   "version": "3.10.16"
  }
 },
 "nbformat": 4,
 "nbformat_minor": 5
}
