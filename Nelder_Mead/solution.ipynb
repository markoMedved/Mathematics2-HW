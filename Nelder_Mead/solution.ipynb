{
 "cells": [
  {
   "cell_type": "markdown",
   "id": "b76fcb92",
   "metadata": {},
   "source": [
    "# NELDER-MEAD METHOD"
   ]
  },
  {
   "cell_type": "markdown",
   "id": "2709447a",
   "metadata": {},
   "source": [
    "## 2-D Implementation"
   ]
  },
  {
   "cell_type": "code",
   "execution_count": null,
   "id": "177a961d",
   "metadata": {},
   "outputs": [],
   "source": [
    "import numpy as np\n",
    "\n",
    "\n",
    "def sort_state(state, fun):\n",
    "    xs = np.array([state[\"best\"], state[\"lousy\"], state[\"worst\"]])\n",
    "    fs = np.array([fun(xs[0]), fun(xs[1]), fun(xs[2])])\n",
    "    ind = np.argsort(fs)\n",
    "    state[\"best\"] = xs[ind[0]]\n",
    "    state[\"lousy\"] = xs[ind[1]]\n",
    "    state[\"worst\"] = xs[ind[2]]\n",
    "\n",
    "    return state\n",
    "\n",
    "\n",
    "def shrink(state, fun):\n",
    "    state[\"lousy\"] = 0.5 * (state[\"best\"] + state[\"lousy\"])\n",
    "    state[\"worst\"] = 0.5 * (state[\"best\"] + state[\"worst\"])\n",
    "\n",
    "    return sort_state(state, fun)\n",
    "\n",
    "\n",
    "def nelder_mead2d(fun, x1, x2, x3,\n",
    "                   const_x_R = 2, const_x_E = 3,\n",
    "                     eps_step = 0.01, eps_fun = 0.01,n_iter = 10):\n",
    "\n",
    "    states = []\n",
    "\n",
    "    # Assign classes to the initial 3 points\n",
    "    state = {\"best\": x1, \"lousy\": x2, \"worst\": x3}\n",
    "    state = sort_state(state, fun)\n",
    "    \n",
    "    # Apply Nelder-Mead iterations\n",
    "    for i in range(n_iter):\n",
    "\n",
    "        # Save each state\n",
    "        #print(states)\n",
    "        states.append(state.copy())\n",
    "\n",
    "        # Calculate XR and XE\n",
    "        x_average = 0.5 * (state[\"best\"] + state[\"lousy\"])\n",
    "        x_R =  state[\"worst\"] + const_x_R * (x_average - state[\"worst\"])\n",
    "        x_E = state[\"worst\"] +  const_x_E * (x_average - state[\"worst\"])\n",
    "        \n",
    "        # Condition 1\n",
    "        y_R = fun(x_R)\n",
    "        y_E = fun(x_E)\n",
    "        if y_R < fun(state[\"best\"]):\n",
    "            # Update with x_E or x_R\n",
    "            state[\"worst\"] = state[\"lousy\"]\n",
    "            state[\"lousy\"] = state[\"best\"]\n",
    "            if y_E < y_R:\n",
    "                state[\"best\"] = x_E\n",
    "\n",
    "            else:\n",
    "                state[\"best\"] = x_R\n",
    "\n",
    "        # Condition 2\n",
    "        elif y_R < fun(state[\"lousy\"]):\n",
    "            state[\"worst\"] = state[\"lousy\"]\n",
    "            state[\"lousy\"] = x_R\n",
    "        \n",
    "        # Condition 3\n",
    "        elif y_R < fun(state[\"worst\"]):\n",
    "            x_oc = state[\"worst\"] + 3/2 * (x_average - state[\"worst\"])\n",
    "            y_oc = fun(x_oc)\n",
    "            if y_oc < y_R:\n",
    "                state[\"worst\"] = x_oc\n",
    "\n",
    "            # Else shrink\n",
    "            else:   \n",
    "                state = shrink(state, fun)\n",
    "\n",
    "        # Condition 4\n",
    "        else:\n",
    "            x_ic = state[\"worst\"] + 1/2 * (x_average - state[\"worst\"])\n",
    "            y_ic = fun(x_ic)\n",
    "            if y_ic < fun(state[\"worst\"]):\n",
    "                state[\"worst\"] = x_ic\n",
    "            else:\n",
    "                state = shrink(state, fun)\n",
    "\n",
    "\n",
    "        # Convergence\n",
    "        max_len = np.max([np.linalg.norm(state[\"best\"] - state[\"worst\"]),\n",
    "                          np.linalg.norm(state[\"lousy\"] - state[\"worst\"]),\n",
    "                          np.linalg.norm(state[\"best\"] - state[\"lousy\"])])\n",
    "        \n",
    "        fun_dif = fun(state[\"best\"]) - fun(state[\"worst\"])\n",
    "        if (fun_dif < eps_fun and max_len < eps_step):\n",
    "            print(i)\n",
    "            return states\n",
    "\n",
    "    return states\n"
   ]
  },
  {
   "cell_type": "markdown",
   "id": "98b938f4",
   "metadata": {},
   "source": [
    "### Test on a simple 2-d function"
   ]
  },
  {
   "cell_type": "code",
   "execution_count": null,
   "id": "51610780",
   "metadata": {},
   "outputs": [
    {
     "name": "stdout",
     "output_type": "stream",
     "text": [
      "66\n",
      "{'best': array([-9.2446804e-05, -1.8030405e-03]), 'lousy': array([-0.0006762, -0.0020687]), 'worst': array([-0.00117213, -0.00147755])}\n"
     ]
    },
    {
     "data": {
      "image/png": "[encoded data removed]",
      "text/plain": [
       "<Figure size 640x480 with 1 Axes>"
      ]
     },
     "metadata": {},
     "output_type": "display_data"
    }
   ],
   "source": [
    "import matplotlib.pyplot as plt\n",
    "\n",
    "def f(x):\n",
    "    return x[0]**2 + x[1]**2\n",
    "\n",
    "states = nelder_mead2d(f, [3,2], [2,4], [3,3], n_iter=400, eps_fun=0.001, eps_step=0.001)\n",
    "\n",
    "alpha = 1\n",
    "for state in states:\n",
    "    plt.scatter([state[\"best\"][0], state[\"lousy\"][0], state[\"worst\"][0]],[state[\"best\"][1], state[\"lousy\"][1], state[\"worst\"][1]], alpha=alpha)\n",
    "    \n",
    "print(state)"
   ]
  },
  {
   "cell_type": "markdown",
   "id": "6dbde260",
   "metadata": {},
   "source": [
    "## Generalized to arbitrary dimensions"
   ]
  },
  {
   "cell_type": "code",
   "execution_count": null,
   "id": "01a2e8b2",
   "metadata": {},
   "outputs": [],
   "source": [
    "def nelder_mead()"
   ]
  },
  {
   "cell_type": "code",
   "execution_count": 108,
   "id": "d05daed4",
   "metadata": {},
   "outputs": [],
   "source": [
    "# Function 1\n",
    "def f1(x):\n",
    "    return (x[0] - x[2])**2 + (2*x[1] + x[2])**2 + (4*x[0] - 2*x[1] + x[2])**2 + x[0] + x[1]\n",
    "\n",
    "# Function 2 \n",
    "def f2(x):\n",
    "    return (x[0] - 1)**2 + (x[1] - 1)**2 + 100* (x[1] - x[0]**2)**2 + 100* (x[2] - x[1]**2)**2\n",
    "\n",
    "# Function 3\n",
    "def f3(x):\n",
    "    return (1.5 - x[0] + x[0] * x[1])**2 + (2.25 - x[0] + x[0]*x[1]**2)**2 + (2.625 - x[0] + x[0] * x[1]**3)**2\n"
   ]
  },
  {
   "cell_type": "code",
   "execution_count": 109,
   "id": "7ab193ee",
   "metadata": {},
   "outputs": [
    {
     "name": "stdout",
     "output_type": "stream",
     "text": [
      "61\n"
     ]
    },
    {
     "data": {
      "text/plain": [
       "np.float64(3.800444138883904e-07)"
      ]
     },
     "execution_count": 109,
     "metadata": {},
     "output_type": "execute_result"
    }
   ],
   "source": [
    "states = nelder_mead2d(f3, [1,1], [1,2], [2,1], n_iter=100000, eps_fun=0.0001, eps_step=0.001)\n",
    "\n",
    "f3(states[-1][\"best\"]) "
   ]
  }
 ],
 "metadata": {
  "kernelspec": {
   "display_name": "mat2",
   "language": "python",
   "name": "python3"
  },
  "language_info": {
   "codemirror_mode": {
    "name": "ipython",
    "version": 3
   },
   "file_extension": ".py",
   "mimetype": "text/x-python",
   "name": "python",
   "nbconvert_exporter": "python",
   "pygments_lexer": "ipython3",
   "version": "3.10.18"
  }
 },
 "nbformat": 4,
 "nbformat_minor": 5
}
