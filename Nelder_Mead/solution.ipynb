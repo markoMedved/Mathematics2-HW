{
 "cells": [
  {
   "cell_type": "markdown",
   "id": "b76fcb92",
   "metadata": {},
   "source": [
    "# NELDER-MEAD METHOD"
   ]
  },
  {
   "cell_type": "markdown",
   "id": "2709447a",
   "metadata": {},
   "source": [
    "## 2-D Implementation"
   ]
  },
  {
   "cell_type": "code",
   "execution_count": 2,
   "id": "177a961d",
   "metadata": {},
   "outputs": [],
   "source": [
    "import numpy as np\n",
    "\n",
    "\n",
    "def sort_state(state, fun):\n",
    "    xs = np.array([state[\"best\"], state[\"lousy\"], state[\"worst\"]])\n",
    "    fs = np.array([fun(xs[0]), fun(xs[1]), fun(xs[2])])\n",
    "    ind = np.argsort(fs)\n",
    "    state[\"best\"] = xs[ind[0]]\n",
    "    state[\"lousy\"] = xs[ind[1]]\n",
    "    state[\"worst\"] = xs[ind[2]]\n",
    "\n",
    "    return state\n",
    "\n",
    "\n",
    "def shrink(state, fun):\n",
    "    state[\"lousy\"] = 0.5 * (state[\"best\"] + state[\"lousy\"])\n",
    "    state[\"worst\"] = 0.5 * (state[\"best\"] + state[\"worst\"])\n",
    "\n",
    "    return sort_state(state, fun)\n",
    "\n",
    "\n",
    "def nelder_mead2d(fun, x1, x2, x3,\n",
    "                   const_x_R = 2, const_x_E = 3,\n",
    "                     eps_step = 0.01, eps_fun = 0.01,n_iter = 1000):\n",
    "\n",
    "    states = []\n",
    "\n",
    "    # Assign classes to the initial 3 points\n",
    "    state = {\"best\": x1, \"lousy\": x2, \"worst\": x3}\n",
    "    state = sort_state(state, fun)\n",
    "\n",
    "    \n",
    "    # Apply Nelder-Mead iterations\n",
    "    for i in range(n_iter):\n",
    "\n",
    "        # Save each state\n",
    "        states.append(state.copy())\n",
    "\n",
    "        # Calculate XR and XE\n",
    "        x_average = 0.5 * (state[\"best\"] + state[\"lousy\"])\n",
    "    \n",
    "        x_R =  state[\"worst\"] + const_x_R * (x_average - state[\"worst\"])\n",
    "        x_E = state[\"worst\"] +  const_x_E * (x_average - state[\"worst\"])\n",
    "        \n",
    "        # Condition 1\n",
    "        y_R = fun(x_R)\n",
    "        y_E = fun(x_E)\n",
    " \n",
    "        if y_R < fun(state[\"best\"]):\n",
    "            # Update with x_E or x_R\n",
    "            state[\"worst\"] = state[\"lousy\"]\n",
    "            state[\"lousy\"] = state[\"best\"]\n",
    "            if y_E < y_R:\n",
    "                state[\"best\"] = x_E\n",
    "\n",
    "            else:\n",
    "                state[\"best\"] = x_R\n",
    "\n",
    "        # Condition 2\n",
    "        elif y_R < fun(state[\"lousy\"]):\n",
    "  \n",
    "            state[\"worst\"] = state[\"lousy\"]\n",
    "            state[\"lousy\"] = x_R\n",
    "\n",
    "        \n",
    "        # Condition 3\n",
    "        elif y_R < fun(state[\"worst\"]):\n",
    "            \n",
    "            x_oc = state[\"worst\"] + 3/2 * (x_average - state[\"worst\"])\n",
    "            y_oc = fun(x_oc)\n",
    "            if y_oc < y_R:\n",
    "                state[\"worst\"] = x_oc\n",
    "\n",
    "            # Else shrink\n",
    "            else:   \n",
    "                state = shrink(state, fun)\n",
    "\n",
    "        # Condition 4\n",
    "        else:\n",
    "            \n",
    "            x_ic = state[\"worst\"] + 1/2 * (x_average - state[\"worst\"])\n",
    "            y_ic = fun(x_ic)\n",
    "            if y_ic < fun(state[\"worst\"]):\n",
    "                state[\"worst\"] = x_ic\n",
    "                state = sort_state(state, fun)\n",
    "            else:\n",
    "                state = shrink(state, fun)\n",
    "\n",
    "\n",
    "        # Convergence\n",
    "        max_len = np.max([np.linalg.norm(state[\"best\"] - state[\"worst\"])])\n",
    "                          #np.linalg.norm(state[\"lousy\"] - state[\"worst\"]),\n",
    "                          # np.linalg.norm(state[\"best\"] - state[\"lousy\"])])\n",
    "        \n",
    "        fun_dif = fun(state[\"best\"]) - fun(state[\"worst\"])\n",
    "        if (fun_dif < eps_fun and max_len < eps_step):\n",
    "            print(i)\n",
    "            return states\n",
    "\n",
    "    return states\n"
   ]
  },
  {
   "cell_type": "markdown",
   "id": "6dbde260",
   "metadata": {},
   "source": [
    "## Generalized to arbitrary dimensions"
   ]
  },
  {
   "cell_type": "code",
   "execution_count": 15,
   "id": "01a2e8b2",
   "metadata": {},
   "outputs": [],
   "source": [
    "from tqdm import tqdm\n",
    "\n",
    "def sort_points_and_vals(points, fun_vals):\n",
    "    ind = np.argsort(fun_vals)\n",
    "    points = np.array(points)[ind]\n",
    "    fun_vals = np.array(fun_vals)[ind]\n",
    "    return list(points), list(fun_vals)\n",
    "\n",
    "\n",
    "def shrink_gen(points, fun_vals, fun):\n",
    "    for i, point in enumerate(points[1:]):\n",
    "        points[i] = 0.5 * (points[0] + point)\n",
    "        fun_vals[i] = fun(points[i])\n",
    "    \n",
    "    return sort_points_and_vals(list(points), list(fun_vals))\n",
    "\n",
    "\n",
    "def nelder_mead(fun, x_start, \n",
    "                const_x_R = 2, const_x_E = 3, start_point_r = 2,\n",
    "                     eps_step = 0.01, eps_fun = 0.01,n_iter = 10):\n",
    "    # Saving the best point in each step\n",
    "    best_points = []\n",
    "\n",
    "    # Initialize the first collection of points == dim + 1\n",
    "    points = []\n",
    "    fun_vals = []\n",
    "    points.append(x_start)\n",
    "    fun_vals.append(fun(x_start))\n",
    "\n",
    "\n",
    "    for i in range(len(x_start)):\n",
    "        new_point = x_start.copy()\n",
    "\n",
    "        # Change each point a bit\n",
    "        new_point[i] += start_point_r\n",
    "        points.append(new_point)\n",
    "        fun_vals.append(fun(new_point))\n",
    "\n",
    "    print(points)\n",
    "\n",
    "    points, fun_vals = sort_points_and_vals(points, fun_vals)\n",
    "\n",
    "    # Nelder mead iterations\n",
    "    for i in tqdm(range(n_iter)):\n",
    "\n",
    "        # Save the best point\n",
    "        best_points.append(points[0])\n",
    "        \n",
    "        # Calculate XR and XE\n",
    "        x_average = np.mean(points[:-1], axis=0) # all but the worst point\n",
    "\n",
    "        x_R = points[-1] + const_x_R * (x_average - points[-1])\n",
    "        x_E = points[-1] + const_x_E * (x_average - points[-1])\n",
    "\n",
    "        # Condition 1\n",
    "        y_R = fun(x_R)\n",
    "        y_E = fun(x_E)\n",
    "\n",
    "        if y_R < fun_vals[0]:\n",
    "\n",
    "            # Update with x_E or x_R\n",
    "            points.pop(-1)\n",
    "            fun_vals.pop(-1)\n",
    "\n",
    "            if y_E < y_R:\n",
    "                points.insert(0, x_E)\n",
    "                fun_vals.insert(0, y_E)\n",
    "            else:\n",
    "                points.insert(0, x_R)\n",
    "                fun_vals.insert(0, y_R)\n",
    "\n",
    "        # Condition 2\n",
    "        elif y_R < fun_vals[-2]:\n",
    "\n",
    "            points[-1] = x_R\n",
    "            fun_vals[-1] = y_R\n",
    "            points, fun_vals = sort_points_and_vals(points, fun_vals)\n",
    "\n",
    "        # Condition 3\n",
    "        elif y_R < fun_vals[-1]:\n",
    "            \n",
    "            x_oc = points[-1] + 3/2 * (x_average - points[-1])\n",
    "            y_oc = fun(x_oc)\n",
    "            if y_oc < y_R:\n",
    "                points[-1] = x_oc\n",
    "                fun_vals[-1] = y_oc\n",
    "\n",
    "            # Else shrink\n",
    "            else:\n",
    "                points, fun_vals = shrink_gen(points, fun_vals, fun)\n",
    "\n",
    "        # Condition 4\n",
    "        else:\n",
    "            x_ic = points[-1] + 1/2 * (x_average - points[-1])\n",
    "            y_ic = fun(x_ic)\n",
    "            if y_ic < fun_vals[-1]:\n",
    "                points[-1] = x_ic\n",
    "                fun_vals[-1] = y_ic \n",
    "                points, fun_vals = sort_points_and_vals(points, fun_vals)\n",
    "\n",
    "            else:\n",
    "                points, fun_vals = shrink_gen(points, fun_vals, fun)\n",
    "\n",
    "        # Convergence\n",
    "        max_len = np.linalg.norm(points[0] - points[-1])\n",
    "        fun_diff = fun_vals[0] - fun_vals[-1]\n",
    "\n",
    "        if(fun_diff < eps_fun and max_len < eps_step):\n",
    "            print(f\"Converged in {i} steps\")\n",
    "            return best_points\n",
    "\n",
    "    return best_points\n"
   ]
  },
  {
   "cell_type": "markdown",
   "id": "98b938f4",
   "metadata": {},
   "source": [
    "### Test on a simple 2-d function"
   ]
  },
  {
   "cell_type": "code",
   "execution_count": 17,
   "id": "51610780",
   "metadata": {},
   "outputs": [
    {
     "name": "stdout",
     "output_type": "stream",
     "text": [
      "48\n"
     ]
    },
    {
     "data": {
      "image/png": "[encoded data removed]",
      "text/plain": [
       "<Figure size 640x480 with 1 Axes>"
      ]
     },
     "metadata": {},
     "output_type": "display_data"
    },
    {
     "name": "stdout",
     "output_type": "stream",
     "text": [
      "[[2, 3], [4, 3], [2, 5]]\n"
     ]
    },
    {
     "name": "stderr",
     "output_type": "stream",
     "text": [
      " 96%|█████████▌| 48/50 [00:00<?, ?it/s]"
     ]
    },
    {
     "name": "stdout",
     "output_type": "stream",
     "text": [
      "Converged in 48 steps\n"
     ]
    },
    {
     "name": "stderr",
     "output_type": "stream",
     "text": [
      "\n"
     ]
    },
    {
     "data": {
      "image/png": "[encoded data removed]",
      "text/plain": [
       "<Figure size 640x480 with 1 Axes>"
      ]
     },
     "metadata": {},
     "output_type": "display_data"
    }
   ],
   "source": [
    "import matplotlib.pyplot as plt\n",
    "\n",
    "def f(x):\n",
    "    return x[0]**2 + x[1]**2\n",
    "\n",
    "# # With 2D implementation\n",
    "states = nelder_mead2d(f, [2,3], [4,3], [2,5], n_iter=50, eps_step=0.0001, eps_fun=10)\n",
    " \n",
    "alpha = 1\n",
    "for i, state in enumerate(states):\n",
    "    # plt.scatter([state[\"best\"][0], state[\"lousy\"][0], state[\"worst\"][0]],[state[\"best\"][1], state[\"lousy\"][1], state[\"worst\"][1]], alpha=alpha)\n",
    "    plt.scatter([state[\"best\"][0]],[state[\"best\"][1]], alpha=alpha)\n",
    "\n",
    "plt.savefig(\"report/figures/convergence_2d.png\")\n",
    "plt.show()\n",
    "\n",
    "\n",
    "# With the general \n",
    "best_points = nelder_mead(f, [2,3], n_iter=50,  eps_step=0.0001, eps_fun=10)\n",
    "\n",
    "plt.figure()\n",
    "for point in best_points:\n",
    "    plt.scatter(point[0], point[1])\n",
    "plt.savefig(\"report/figures/convergence_alld.png\")\n",
    "    "
   ]
  },
  {
   "cell_type": "markdown",
   "id": "7088acf2",
   "metadata": {},
   "source": [
    "## Use nelder mead on the 3 functions"
   ]
  },
  {
   "cell_type": "code",
   "execution_count": 4,
   "id": "d05daed4",
   "metadata": {},
   "outputs": [],
   "source": [
    "# Function 1\n",
    "def f1(x):\n",
    "    return (x[0] - x[2])**2 + (2*x[1] + x[2])**2 + (4*x[0] - 2*x[1] + x[2])**2 + x[0] + x[1]\n",
    "\n",
    "# Function 2 \n",
    "def f2(x):\n",
    "    return (x[0] - 1)**2 + (x[1] - 1)**2 + 100* (x[1] - x[0]**2)**2 + 100* (x[2] - x[1]**2)**2\n",
    "\n",
    "# Function 3\n",
    "def f3(x):\n",
    "    return (1.5 - x[0] + x[0] * x[1])**2 + (2.25 - x[0] + x[0]*x[1]**2)**2 + (2.625 - x[0] + x[0] * x[1]**3)**2\n"
   ]
  },
  {
   "cell_type": "code",
   "execution_count": 5,
   "id": "7ab193ee",
   "metadata": {},
   "outputs": [
    {
     "name": "stderr",
     "output_type": "stream",
     "text": [
      "  0%|          | 136/100000 [00:00<00:04, 22683.63it/s]\n"
     ]
    },
    {
     "name": "stdout",
     "output_type": "stream",
     "text": [
      "Converged in 136 steps\n",
      "-0.1979166666666666 [-0.16666666 -0.22916666  0.16666667]\n"
     ]
    },
    {
     "name": "stderr",
     "output_type": "stream",
     "text": [
      "  0%|          | 131/100000 [00:00<00:03, 27257.36it/s]"
     ]
    },
    {
     "name": "stdout",
     "output_type": "stream",
     "text": [
      "Converged in 131 steps\n",
      "-0.19791666666666505 [-0.16666667 -0.22916666  0.16666665]\n"
     ]
    },
    {
     "name": "stderr",
     "output_type": "stream",
     "text": [
      "\n"
     ]
    }
   ],
   "source": [
    "# Function 1\n",
    "start_point = [0,0,0]\n",
    "best_points = nelder_mead(f1, start_point, n_iter=100000, eps_fun=1e-8, eps_step=1e-8, start_point_r=2)\n",
    "print(f1(best_points[-1]), best_points[-1])\n",
    "\n",
    "start_point = [1,1,0]\n",
    "best_points = nelder_mead(f1, start_point, n_iter=100000, eps_fun=1e-8, eps_step=1e-8, start_point_r=2)\n",
    "print(f1(best_points[-1]), best_points[-1])"
   ]
  },
  {
   "cell_type": "code",
   "execution_count": 6,
   "id": "a1963e37",
   "metadata": {},
   "outputs": [
    {
     "name": "stderr",
     "output_type": "stream",
     "text": [
      "  0%|          | 240/100000 [00:00<00:03, 25073.05it/s]\n"
     ]
    },
    {
     "name": "stdout",
     "output_type": "stream",
     "text": [
      "Converged in 240 steps\n",
      "1.0092555322575939e-23 [1. 1. 1.]\n"
     ]
    },
    {
     "name": "stderr",
     "output_type": "stream",
     "text": [
      "  0%|          | 124/100000 [00:00<00:04, 20177.44it/s]"
     ]
    },
    {
     "name": "stdout",
     "output_type": "stream",
     "text": [
      "Converged in 124 steps\n",
      "0.2462649477117873 [0.75411765 0.56933541 0.32242928]\n"
     ]
    },
    {
     "name": "stderr",
     "output_type": "stream",
     "text": [
      "\n"
     ]
    }
   ],
   "source": [
    "# Function 2\n",
    "start_point = [1.2,1.2,1.2]\n",
    "best_points = nelder_mead(f2, start_point, n_iter=100000, eps_fun=1e-12, eps_step=1e-12)\n",
    "print(f2(best_points[-1]), best_points[-1])\n",
    "\n",
    "start_point =  [-1,1.2,1.2]\n",
    "best_points = nelder_mead(f2, start_point, n_iter=100000, eps_fun=1e-8, eps_step=1e-8)\n",
    "print(f2(best_points[-1]), best_points[-1])"
   ]
  },
  {
   "cell_type": "code",
   "execution_count": 7,
   "id": "66f84a19",
   "metadata": {},
   "outputs": [
    {
     "name": "stderr",
     "output_type": "stream",
     "text": [
      "  0%|          | 38/100000 [00:00<00:04, 22127.38it/s]\n"
     ]
    },
    {
     "name": "stdout",
     "output_type": "stream",
     "text": [
      "Converged in 38 steps\n",
      "1.0017994456440688e-08 [2.99975658 0.49994443]\n"
     ]
    },
    {
     "name": "stderr",
     "output_type": "stream",
     "text": [
      "  0%|          | 69/100000 [00:00<00:07, 13800.34it/s]"
     ]
    },
    {
     "name": "stdout",
     "output_type": "stream",
     "text": [
      "Converged in 69 steps\n",
      "1.0723743682286354e-08 [2.99974765 0.49993263]\n"
     ]
    },
    {
     "name": "stderr",
     "output_type": "stream",
     "text": [
      "\n"
     ]
    }
   ],
   "source": [
    "# Function 3\n",
    "start_point = [1,1]\n",
    "best_points = nelder_mead(f3, start_point, n_iter=100000, eps_fun=0.0001, eps_step=0.0001, start_point_r=2)\n",
    "print(f3(best_points[-1]), best_points[-1])\n",
    "\n",
    "start_point = [4.5,4.5]\n",
    "best_points = nelder_mead(f3, start_point, n_iter=100000, eps_fun=0.0001, eps_step=0.0001, start_point_r=2)\n",
    "print(f3(best_points[-1]), best_points[-1])"
   ]
  },
  {
   "cell_type": "markdown",
   "id": "9e0ea65c",
   "metadata": {},
   "source": [
    "## Using Nelder Mead on the blackbox functions"
   ]
  },
  {
   "cell_type": "code",
   "execution_count": 8,
   "id": "ba49bec2",
   "metadata": {},
   "outputs": [],
   "source": [
    "import os\n",
    "import subprocess\n",
    "\n",
    "env = os.environ.copy()\n",
    "env[\"PATH\"] += r\";C:\\mysys64\\usr\\bin\"\n",
    "\n",
    "def blackbox1(x):\n",
    "    result = subprocess.run(\n",
    "        [\"./hw4_1_win.exe\", \"63240454\", \"1\", f\"{x[0]}\", f\"{x[1]}\", f\"{x[2]}\"],\n",
    "        capture_output=True,\n",
    "        text=True,\n",
    "        env=env\n",
    "    )\n",
    "    return float(result.stdout)\n",
    "\n",
    "\n",
    "def blackbox2(x):\n",
    "    result = subprocess.run(\n",
    "        [\"./hw4_1_win.exe\", \"63240454\", \"2\", f\"{x[0]}\", f\"{x[1]}\", f\"{x[2]}\"],\n",
    "        capture_output=True,\n",
    "        text=True,\n",
    "        env=env\n",
    "    )\n",
    "    return float(result.stdout)\n",
    "\n",
    "\n",
    "def blackbox3(x):\n",
    "    result = subprocess.run(\n",
    "        [\"./hw4_1_win.exe\", \"63240454\", \"3\", f\"{x[0]}\", f\"{x[1]}\", f\"{x[2]}\"],\n",
    "        capture_output=True,\n",
    "        text=True,\n",
    "        env=env\n",
    "    )\n",
    "    return float(result.stdout)"
   ]
  },
  {
   "cell_type": "markdown",
   "id": "b50dbfd2",
   "metadata": {},
   "source": [
    "### Function 1"
   ]
  },
  {
   "cell_type": "code",
   "execution_count": null,
   "id": "fb3d8744",
   "metadata": {},
   "outputs": [
    {
     "name": "stderr",
     "output_type": "stream",
     "text": [
      "  7%|▋         | 36/500 [05:18<1:08:30,  8.86s/it]"
     ]
    },
    {
     "name": "stdout",
     "output_type": "stream",
     "text": [
      "Converged in 36 steps\n",
      "[array([1. , 1.2, 1.2]), array([1. , 1.2, 1.2]), array([1. , 1.2, 1.2]), array([1. , 1.2, 1.2]), array([1. , 1.2, 1.2]), array([-0.06790123,  1.09506173,  0.77407407]), array([-0.06790123,  1.09506173,  0.77407407]), array([0.94410151, 0.41159122, 0.47057613]), array([0.94410151, 0.41159122, 0.47057613]), array([0.14788142, 0.07444749, 0.31785551]), array([0.28898351, 0.69604036, 0.69046449]), array([0.28898351, 0.69604036, 0.69046449]), array([0.55736532, 0.39804932, 0.39564101]), array([0.55736532, 0.39804932, 0.39564101]), array([0.24886823, 0.28395093, 0.37509406]), array([0.31273339, 0.52606579, 0.50883681]), array([0.28810262, 0.39448105, 0.31870816]), array([0.42030003, 0.39977429, 0.39826035]), array([0.42030003, 0.39977429, 0.39826035]), array([0.42030003, 0.39977429, 0.39826035]), array([0.42030003, 0.39977429, 0.39826035]), array([0.42030003, 0.39977429, 0.39826035]), array([0.42030003, 0.39977429, 0.39826035]), array([0.32413938, 0.39029563, 0.39621126]), array([0.32413938, 0.39029563, 0.39621126]), array([0.35165152, 0.43128163, 0.42839243]), array([0.35165152, 0.43128163, 0.42839243]), array([0.38613352, 0.40660804, 0.40871753]), array([0.34838555, 0.40458744, 0.40977736]), array([0.34400361, 0.40956997, 0.39833778]), array([0.35557954, 0.41910172, 0.41700166]), array([0.36772821, 0.40884721, 0.4085449 ]), array([0.36315536, 0.42042516, 0.40614553]), array([0.36315536, 0.42042516, 0.40614553]), array([0.36315536, 0.42042516, 0.40614553]), array([0.36315536, 0.42042516, 0.40614553]), array([0.36315536, 0.42042516, 0.40614553])]\n"
     ]
    },
    {
     "name": "stderr",
     "output_type": "stream",
     "text": [
      "\n",
      "  4%|▎         | 18/500 [02:31<1:09:16,  8.62s/it]"
     ]
    }
   ],
   "source": [
    "# Function 1\n",
    "start_point = [-1,1.2,1.2]\n",
    "best_points = nelder_mead(blackbox1, start_point, n_iter=500, eps_step=0.01)\n",
    "print(best_points)\n",
    "#np.save(\"results_black_box/fun1.npy\", best_points)"
   ]
  },
  {
   "cell_type": "code",
   "execution_count": 19,
   "id": "29a02bee",
   "metadata": {},
   "outputs": [],
   "source": [
    "best_points = np.load(\"results_black_box/fun1.npy\")"
   ]
  },
  {
   "cell_type": "code",
   "execution_count": null,
   "id": "78da7bdb",
   "metadata": {},
   "outputs": [],
   "source": [
    "\n",
    "# function 2\n",
    "start_point = [-1,1.2,1.2]\n",
    "best_points = nelder_mead(blackbox2, start_point, n_iter=500, eps_step=0.01)\n",
    "print(best_points)\n",
    "# np.save(\"results_black_box/fun2.npy\", best_points)\n",
    "\n",
    "# function 3\n",
    "start_point = [-1,1.2,1.2]\n",
    "best_points = nelder_mead(blackbox3, start_point, n_iter=500, eps_step=0.01)\n",
    "print(best_points)\n",
    "# np.save(\"results_black_box/fun3.npy\", best_points)"
   ]
  }
 ],
 "metadata": {
  "kernelspec": {
   "display_name": "mat2",
   "language": "python",
   "name": "python3"
  },
  "language_info": {
   "codemirror_mode": {
    "name": "ipython",
    "version": 3
   },
   "file_extension": ".py",
   "mimetype": "text/x-python",
   "name": "python",
   "nbconvert_exporter": "python",
   "pygments_lexer": "ipython3",
   "version": "3.10.18"
  }
 },
 "nbformat": 4,
 "nbformat_minor": 5
}
