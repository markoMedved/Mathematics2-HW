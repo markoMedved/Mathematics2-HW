{
 "cells": [
  {
   "cell_type": "markdown",
   "id": "b76fcb92",
   "metadata": {},
   "source": [
    "# NELDER-MEAD METHOD"
   ]
  },
  {
   "cell_type": "markdown",
   "id": "2709447a",
   "metadata": {},
   "source": [
    "## 2-D Implementation"
   ]
  },
  {
   "cell_type": "code",
   "execution_count": 1,
   "id": "177a961d",
   "metadata": {},
   "outputs": [],
   "source": [
    "import numpy as np\n",
    "\n",
    "\n",
    "def sort_state(state, fun):\n",
    "    xs = np.array([state[\"best\"], state[\"lousy\"], state[\"worst\"]])\n",
    "    fs = np.array([fun(xs[0]), fun(xs[1]), fun(xs[2])])\n",
    "    ind = np.argsort(fs)\n",
    "    state[\"best\"] = xs[ind[0]]\n",
    "    state[\"lousy\"] = xs[ind[1]]\n",
    "    state[\"worst\"] = xs[ind[2]]\n",
    "\n",
    "    return state\n",
    "\n",
    "\n",
    "def shrink(state, fun):\n",
    "    state[\"lousy\"] = 0.5 * (state[\"best\"] + state[\"lousy\"])\n",
    "    state[\"worst\"] = 0.5 * (state[\"best\"] + state[\"worst\"])\n",
    "\n",
    "    return sort_state(state, fun)\n",
    "\n",
    "\n",
    "def nelder_mead2d(fun, x1, x2, x3,\n",
    "                   const_x_R = 2, const_x_E = 3,\n",
    "                     eps_step = 0.01, eps_fun = 0.01,n_iter = 1000):\n",
    "\n",
    "    states = []\n",
    "\n",
    "    # Assign classes to the initial 3 points\n",
    "    state = {\"best\": x1, \"lousy\": x2, \"worst\": x3}\n",
    "    state = sort_state(state, fun)\n",
    "\n",
    "    \n",
    "    # Apply Nelder-Mead iterations\n",
    "    for i in range(n_iter):\n",
    "\n",
    "        # Save each state\n",
    "        states.append(state.copy())\n",
    "\n",
    "        # Calculate XR and XE\n",
    "        x_average = 0.5 * (state[\"best\"] + state[\"lousy\"])\n",
    "    \n",
    "        x_R =  state[\"worst\"] + const_x_R * (x_average - state[\"worst\"])\n",
    "        x_E = state[\"worst\"] +  const_x_E * (x_average - state[\"worst\"])\n",
    "        \n",
    "        # Condition 1\n",
    "        y_R = fun(x_R)\n",
    "        y_E = fun(x_E)\n",
    " \n",
    "        if y_R < fun(state[\"best\"]):\n",
    "            # Update with x_E or x_R\n",
    "            state[\"worst\"] = state[\"lousy\"]\n",
    "            state[\"lousy\"] = state[\"best\"]\n",
    "            if y_E < y_R:\n",
    "                state[\"best\"] = x_E\n",
    "\n",
    "            else:\n",
    "                state[\"best\"] = x_R\n",
    "\n",
    "        # Condition 2\n",
    "        elif y_R < fun(state[\"lousy\"]):\n",
    "  \n",
    "            state[\"worst\"] = state[\"lousy\"]\n",
    "            state[\"lousy\"] = x_R\n",
    "\n",
    "        \n",
    "        # Condition 3\n",
    "        elif y_R < fun(state[\"worst\"]):\n",
    "            \n",
    "            x_oc = state[\"worst\"] + 3/2 * (x_average - state[\"worst\"])\n",
    "            y_oc = fun(x_oc)\n",
    "            if y_oc < y_R:\n",
    "                state[\"worst\"] = x_oc\n",
    "\n",
    "            # Else shrink\n",
    "            else:   \n",
    "                state = shrink(state, fun)\n",
    "\n",
    "        # Condition 4\n",
    "        else:\n",
    "            \n",
    "            x_ic = state[\"worst\"] + 1/2 * (x_average - state[\"worst\"])\n",
    "            y_ic = fun(x_ic)\n",
    "            if y_ic < fun(state[\"worst\"]):\n",
    "                state[\"worst\"] = x_ic\n",
    "                state = sort_state(state, fun)\n",
    "            else:\n",
    "                state = shrink(state, fun)\n",
    "\n",
    "\n",
    "        # Convergence\n",
    "        max_len = np.max([np.linalg.norm(state[\"best\"] - state[\"worst\"])])\n",
    "                          #np.linalg.norm(state[\"lousy\"] - state[\"worst\"]),\n",
    "                          # np.linalg.norm(state[\"best\"] - state[\"lousy\"])])\n",
    "        \n",
    "        fun_dif = fun(state[\"best\"]) - fun(state[\"worst\"])\n",
    "        if (fun_dif < eps_fun and max_len < eps_step):\n",
    "            print(i)\n",
    "            return states\n",
    "\n",
    "    return states\n"
   ]
  },
  {
   "cell_type": "markdown",
   "id": "6dbde260",
   "metadata": {},
   "source": [
    "## Generalized to arbitrary dimensions"
   ]
  },
  {
   "cell_type": "code",
   "execution_count": 9,
   "id": "01a2e8b2",
   "metadata": {},
   "outputs": [],
   "source": [
    "from tqdm import tqdm\n",
    "\n",
    "def sort_points_and_vals(points, fun_vals):\n",
    "    ind = np.argsort(fun_vals)\n",
    "    points = np.array(points)[ind]\n",
    "    fun_vals = np.array(fun_vals)[ind]\n",
    "    return list(points), list(fun_vals)\n",
    "\n",
    "\n",
    "def shrink_gen(points, fun_vals, fun):\n",
    "    for i, point in enumerate(points[1:]):\n",
    "        points[i] = 0.5 * (points[0] + point)\n",
    "        fun_vals[i] = fun(points[i])\n",
    "    \n",
    "    return sort_points_and_vals(list(points), list(fun_vals))\n",
    "\n",
    "\n",
    "def nelder_mead(fun, x_start, \n",
    "                const_x_R = 2, const_x_E = 3, start_point_r = 1,\n",
    "                     eps_step = 0.01, eps_fun = 0.01,n_iter = 10):\n",
    "    # Saving the best point in each step\n",
    "    best_points = []\n",
    "\n",
    "    # Initialize the first collection of points == dim + 1\n",
    "    points = []\n",
    "    fun_vals = []\n",
    "    points.append(x_start)\n",
    "    fun_vals.append(fun(x_start))\n",
    "\n",
    "\n",
    "    for i in range(len(x_start)):\n",
    "        new_point = x_start.copy()\n",
    "\n",
    "        # Change each point a bit\n",
    "        new_point[i] += start_point_r\n",
    "        points.append(new_point)\n",
    "        fun_vals.append(fun(new_point))\n",
    "\n",
    "    print(points)\n",
    "\n",
    "    points, fun_vals = sort_points_and_vals(points, fun_vals)\n",
    "\n",
    "    # Nelder mead iterations\n",
    "    for i in tqdm(range(n_iter)):\n",
    "\n",
    "        # Save the best point\n",
    "        best_points.append(points[0])\n",
    "        \n",
    "        # Calculate XR and XE\n",
    "        x_average = np.mean(points[:-1], axis=0) # all but the worst point\n",
    "\n",
    "        x_R = points[-1] + const_x_R * (x_average - points[-1])\n",
    "        x_E = points[-1] + const_x_E * (x_average - points[-1])\n",
    "\n",
    "        # Condition 1\n",
    "        y_R = fun(x_R)\n",
    "        y_E = fun(x_E)\n",
    "\n",
    "        if y_R < fun_vals[0]:\n",
    "\n",
    "            # Update with x_E or x_R\n",
    "            points.pop(-1)\n",
    "            fun_vals.pop(-1)\n",
    "\n",
    "            if y_E < y_R:\n",
    "                points.insert(0, x_E)\n",
    "                fun_vals.insert(0, y_E)\n",
    "            else:\n",
    "                points.insert(0, x_R)\n",
    "                fun_vals.insert(0, y_R)\n",
    "\n",
    "        # Condition 2\n",
    "        elif y_R < fun_vals[-2]:\n",
    "\n",
    "            points[-1] = x_R\n",
    "            fun_vals[-1] = y_R\n",
    "            points, fun_vals = sort_points_and_vals(points, fun_vals)\n",
    "\n",
    "        # Condition 3\n",
    "        elif y_R < fun_vals[-1]:\n",
    "            \n",
    "            x_oc = points[-1] + 3/2 * (x_average - points[-1])\n",
    "            y_oc = fun(x_oc)\n",
    "            if y_oc < y_R:\n",
    "                points[-1] = x_oc\n",
    "                fun_vals[-1] = y_oc\n",
    "\n",
    "            # Else shrink\n",
    "            else:\n",
    "                points, fun_vals = shrink_gen(points, fun_vals, fun)\n",
    "\n",
    "        # Condition 4\n",
    "        else:\n",
    "            x_ic = points[-1] + 1/2 * (x_average - points[-1])\n",
    "            y_ic = fun(x_ic)\n",
    "            if y_ic < fun_vals[-1]:\n",
    "                points[-1] = x_ic\n",
    "                fun_vals[-1] = y_ic \n",
    "                points, fun_vals = sort_points_and_vals(points, fun_vals)\n",
    "\n",
    "            else:\n",
    "                points, fun_vals = shrink_gen(points, fun_vals, fun)\n",
    "\n",
    "        # Convergence\n",
    "        max_len = np.linalg.norm(points[0] - points[-1])\n",
    "        fun_diff = fun_vals[0] - fun_vals[-1]\n",
    "\n",
    "        # if(fun_diff < eps_fun and max_len < eps_step):\n",
    "        if(max_len < eps_step):\n",
    "            print(f\"Converged in {i} steps\")\n",
    "            return best_points\n",
    "\n",
    "    return best_points\n"
   ]
  },
  {
   "cell_type": "markdown",
   "id": "98b938f4",
   "metadata": {},
   "source": [
    "### Test on a simple 2-d function"
   ]
  },
  {
   "cell_type": "code",
   "execution_count": 3,
   "id": "51610780",
   "metadata": {},
   "outputs": [
    {
     "name": "stdout",
     "output_type": "stream",
     "text": [
      "48\n"
     ]
    },
    {
     "data": {
      "image/png": "[encoded data removed]",
      "text/plain": [
       "<Figure size 640x480 with 1 Axes>"
      ]
     },
     "metadata": {},
     "output_type": "display_data"
    },
    {
     "name": "stdout",
     "output_type": "stream",
     "text": [
      "[[2, 3], [4, 3], [2, 5]]\n"
     ]
    },
    {
     "name": "stderr",
     "output_type": "stream",
     "text": [
      " 96%|█████████▌| 48/50 [00:00<00:00, 14514.21it/s]"
     ]
    },
    {
     "name": "stdout",
     "output_type": "stream",
     "text": [
      "Converged in 48 steps\n"
     ]
    },
    {
     "name": "stderr",
     "output_type": "stream",
     "text": [
      "\n"
     ]
    },
    {
     "data": {
      "image/png": "[encoded data removed]",
      "text/plain": [
       "<Figure size 640x480 with 1 Axes>"
      ]
     },
     "metadata": {},
     "output_type": "display_data"
    }
   ],
   "source": [
    "import matplotlib.pyplot as plt\n",
    "\n",
    "def f(x):\n",
    "    return x[0]**2 + x[1]**2\n",
    "\n",
    "# # With 2D implementation\n",
    "states = nelder_mead2d(f, [2,3], [4,3], [2,5], n_iter=50, eps_step=0.0001, eps_fun=10)\n",
    " \n",
    "alpha = 1\n",
    "for i, state in enumerate(states):\n",
    "    # plt.scatter([state[\"best\"][0], state[\"lousy\"][0], state[\"worst\"][0]],[state[\"best\"][1], state[\"lousy\"][1], state[\"worst\"][1]], alpha=alpha)\n",
    "    plt.scatter([state[\"best\"][0]],[state[\"best\"][1]], alpha=alpha)\n",
    "\n",
    "plt.savefig(\"report/figures/convergence_2d.png\")\n",
    "plt.show()\n",
    "\n",
    "\n",
    "# With the general \n",
    "best_points = nelder_mead(f, [2,3], n_iter=50,  eps_step=0.0001, eps_fun=10)\n",
    "\n",
    "plt.figure()\n",
    "for point in best_points:\n",
    "    plt.scatter(point[0], point[1])\n",
    "plt.savefig(\"report/figures/convergence_alld.png\")\n",
    "    "
   ]
  },
  {
   "cell_type": "markdown",
   "id": "7088acf2",
   "metadata": {},
   "source": [
    "## Use nelder mead on the 3 functions"
   ]
  },
  {
   "cell_type": "code",
   "execution_count": 7,
   "id": "d05daed4",
   "metadata": {},
   "outputs": [],
   "source": [
    "# Function 1\n",
    "def f1(x):\n",
    "    return (x[0] - x[2])**2 + (2*x[1] + x[2])**2 + (4*x[0] - 2*x[1] + x[2])**2 + x[0] + x[1]\n",
    "\n",
    "# Function 2 \n",
    "def f2(x):\n",
    "    return (x[0] - 1)**2 + (x[1] - 1)**2 + 100* (x[1] - x[0]**2)**2 + 100* (x[2] - x[1]**2)**2\n",
    "\n",
    "# Function 3\n",
    "def f3(x):\n",
    "    return (1.5 - x[0] + x[0] * x[1])**2 + (2.25 - x[0] + x[0]*x[1]**2)**2 + (2.625 - x[0] + x[0] * x[1]**3)**2\n"
   ]
  },
  {
   "cell_type": "code",
   "execution_count": 34,
   "id": "7ab193ee",
   "metadata": {},
   "outputs": [
    {
     "name": "stdout",
     "output_type": "stream",
     "text": [
      "[[0, 0, 0], [5, 0, 0], [0, 5, 0], [0, 0, 5]]\n"
     ]
    },
    {
     "name": "stderr",
     "output_type": "stream",
     "text": [
      "  0%|          | 138/100000 [00:00<00:05, 17272.87it/s]\n"
     ]
    },
    {
     "name": "stdout",
     "output_type": "stream",
     "text": [
      "Converged in 138 steps\n",
      "-0.1979166666666666 [-0.16666666 -0.22916666  0.16666666]\n",
      "[[1, 1, 0], [6, 1, 0], [1, 6, 0], [1, 1, 5]]\n"
     ]
    },
    {
     "name": "stderr",
     "output_type": "stream",
     "text": [
      "  0%|          | 132/100000 [00:00<00:04, 24806.14it/s]"
     ]
    },
    {
     "name": "stdout",
     "output_type": "stream",
     "text": [
      "Converged in 132 steps\n",
      "-0.19791666666666646 [-0.16666666 -0.22916667  0.16666667]\n"
     ]
    },
    {
     "name": "stderr",
     "output_type": "stream",
     "text": [
      "\n"
     ]
    }
   ],
   "source": [
    "# Function 1\n",
    "start_point = [0,0,0]\n",
    "best_points = nelder_mead(f1, start_point, n_iter=100000, eps_fun=1e-7, eps_step=1e-8, start_point_r=5)\n",
    "print(f1(best_points[-1]), best_points[-1])\n",
    "\n",
    "start_point = [1,1,0]\n",
    "best_points = nelder_mead(f1, start_point, n_iter=100000, eps_fun=1e-7, eps_step=1e-8, start_point_r=5)\n",
    "print(f1(best_points[-1]), best_points[-1])"
   ]
  },
  {
   "cell_type": "code",
   "execution_count": 37,
   "id": "a1963e37",
   "metadata": {},
   "outputs": [
    {
     "name": "stdout",
     "output_type": "stream",
     "text": [
      "[[1.2, 1.2, 1.2], [6.2, 1.2, 1.2], [1.2, 6.2, 1.2], [1.2, 1.2, 6.2]]\n"
     ]
    },
    {
     "name": "stderr",
     "output_type": "stream",
     "text": [
      "  0%|          | 123/100000 [00:00<00:05, 18123.35it/s]\n"
     ]
    },
    {
     "name": "stdout",
     "output_type": "stream",
     "text": [
      "Converged in 123 steps\n",
      "7.339486143598763 [-1.45794794  2.1347794   4.56158427]\n",
      "[[-1, 1.2, 1.2], [4, 1.2, 1.2], [-1, 6.2, 1.2], [-1, 1.2, 6.2]]\n"
     ]
    },
    {
     "name": "stderr",
     "output_type": "stream",
     "text": [
      "  0%|          | 102/100000 [00:00<00:05, 19941.22it/s]"
     ]
    },
    {
     "name": "stdout",
     "output_type": "stream",
     "text": [
      "Converged in 102 steps\n",
      "2.3250924856747153 [-0.13926095  0.04574354 -0.01961921]\n"
     ]
    },
    {
     "name": "stderr",
     "output_type": "stream",
     "text": [
      "\n"
     ]
    }
   ],
   "source": [
    "# Function 2\n",
    "start_point = [1.2,1.2,1.2]\n",
    "best_points = nelder_mead(f2, start_point, n_iter=100000, eps_fun=1e-7, eps_step=1e-7, start_point_r=5)\n",
    "print(f2(best_points[-1]), best_points[-1])\n",
    "\n",
    "start_point =  [-1,1.2,1.2]\n",
    "best_points = nelder_mead(f2, start_point, n_iter=100000, eps_fun=1e-7, eps_step=1e-7, start_point_r=5)\n",
    "print(f2(best_points[-1]), best_points[-1])"
   ]
  },
  {
   "cell_type": "code",
   "execution_count": 43,
   "id": "66f84a19",
   "metadata": {},
   "outputs": [
    {
     "name": "stdout",
     "output_type": "stream",
     "text": [
      "[[1, 1], [6, 1], [1, 6]]\n"
     ]
    },
    {
     "name": "stderr",
     "output_type": "stream",
     "text": [
      "  0%|          | 73/100000 [00:00<00:04, 20744.19it/s]\n"
     ]
    },
    {
     "name": "stdout",
     "output_type": "stream",
     "text": [
      "Converged in 73 steps\n",
      "1.7608472532735054e-15 [3.0000001  0.50000003]\n",
      "[[4.5, 4.5], [9.5, 4.5], [4.5, 9.5]]\n"
     ]
    },
    {
     "name": "stderr",
     "output_type": "stream",
     "text": [
      "  0%|          | 81/100000 [00:00<00:07, 12862.07it/s]"
     ]
    },
    {
     "name": "stdout",
     "output_type": "stream",
     "text": [
      "Converged in 81 steps\n",
      "5.44115025187426e-15 [2.99999982 0.49999995]\n"
     ]
    },
    {
     "name": "stderr",
     "output_type": "stream",
     "text": [
      "\n"
     ]
    }
   ],
   "source": [
    "# Function 3\n",
    "start_point = [1,1]\n",
    "best_points = nelder_mead(f3, start_point, n_iter=100000, eps_fun=0.0001, eps_step=1e-7, start_point_r=5)\n",
    "print(f3(best_points[-1]), best_points[-1])\n",
    "\n",
    "start_point = [4.5,4.5]\n",
    "best_points = nelder_mead(f3, start_point, n_iter=100000, eps_fun=0.0001, eps_step=1e-7, start_point_r=5)\n",
    "print(f3(best_points[-1]), best_points[-1])"
   ]
  },
  {
   "cell_type": "markdown",
   "id": "9e0ea65c",
   "metadata": {},
   "source": [
    "## Using Nelder Mead on the blackbox functions"
   ]
  },
  {
   "cell_type": "code",
   "execution_count": 46,
   "id": "ba49bec2",
   "metadata": {},
   "outputs": [],
   "source": [
    "import os\n",
    "import subprocess\n",
    "\n",
    "env = os.environ.copy()\n",
    "env[\"PATH\"] += r\";C:\\mysys64\\usr\\bin\"\n",
    "\n",
    "def blackbox1(x):\n",
    "    result = subprocess.run(\n",
    "        [\"./hw4_1_win.exe\", \"63240454\", \"1\", f\"{x[0]}\", f\"{x[1]}\", f\"{x[2]}\"],\n",
    "        capture_output=True,\n",
    "        text=True,\n",
    "        env=env\n",
    "    )\n",
    "    return float(result.stdout)\n",
    "\n",
    "\n",
    "def blackbox2(x):\n",
    "    result = subprocess.run(\n",
    "        [\"./hw4_1_win.exe\", \"63240454\", \"2\", f\"{x[0]}\", f\"{x[1]}\", f\"{x[2]}\"],\n",
    "        capture_output=True,\n",
    "        text=True,\n",
    "        env=env\n",
    "    )\n",
    "    return float(result.stdout)\n",
    "\n",
    "\n",
    "def blackbox3(x):\n",
    "    result = subprocess.run(\n",
    "        [\"./hw4_1_win.exe\", \"63240454\", \"3\", f\"{x[0]}\", f\"{x[1]}\", f\"{x[2]}\"],\n",
    "        capture_output=True,\n",
    "        text=True,\n",
    "        env=env\n",
    "    )\n",
    "    return float(result.stdout)"
   ]
  },
  {
   "cell_type": "markdown",
   "id": "b50dbfd2",
   "metadata": {},
   "source": [
    "### Function 1"
   ]
  },
  {
   "cell_type": "code",
   "execution_count": 47,
   "id": "fb3d8744",
   "metadata": {},
   "outputs": [
    {
     "name": "stdout",
     "output_type": "stream",
     "text": [
      "[[-1, 1.2, 1.2], [0, 1.2, 1.2], [-1, 2.2, 1.2], [-1, 1.2, 2.2]]\n"
     ]
    },
    {
     "name": "stderr",
     "output_type": "stream",
     "text": [
      "  2%|▏         | 118/5000 [15:42<10:49:37,  7.98s/it]"
     ]
    },
    {
     "name": "stdout",
     "output_type": "stream",
     "text": [
      "Converged in 118 steps\n"
     ]
    },
    {
     "name": "stderr",
     "output_type": "stream",
     "text": [
      "\n"
     ]
    }
   ],
   "source": [
    "# Function 1\n",
    "start_point = [-1,1.2,1.2]\n",
    "best_points = nelder_mead(blackbox1, start_point, n_iter=5000, eps_step=1e-7)\n",
    "np.save(\"results_black_box/fun1.npy\", best_points)"
   ]
  },
  {
   "cell_type": "code",
   "execution_count": 53,
   "id": "29a02bee",
   "metadata": {},
   "outputs": [
    {
     "name": "stdout",
     "output_type": "stream",
     "text": [
      "[0.36444539 0.42364448 0.40423644] 0.454042360000001\n"
     ]
    }
   ],
   "source": [
    "best_points = np.load(\"results_black_box/fun1.npy\")\n",
    "print(best_points[-1], blackbox1(best_points[-1]))"
   ]
  },
  {
   "cell_type": "code",
   "execution_count": 48,
   "id": "78da7bdb",
   "metadata": {},
   "outputs": [
    {
     "name": "stdout",
     "output_type": "stream",
     "text": [
      "[[-1, 1.2, 1.2], [0, 1.2, 1.2], [-1, 2.2, 1.2], [-1, 1.2, 2.2]]\n"
     ]
    },
    {
     "name": "stderr",
     "output_type": "stream",
     "text": [
      "  3%|▎         | 154/5000 [19:27<10:12:10,  7.58s/it]"
     ]
    },
    {
     "name": "stdout",
     "output_type": "stream",
     "text": [
      "Converged in 154 steps\n",
      "[array([0. , 1.2, 1.2]), array([0. , 1.2, 1.2]), array([-0.58333333,  0.95      ,  1.61666667]), array([-0.58333333,  0.95      ,  1.61666667]), array([-0.58333333,  0.95      ,  1.61666667]), array([1.0462963 , 0.83888889, 0.57962963]), array([0.56481481, 0.39444444, 0.43148148]), array([0.56481481, 0.39444444, 0.43148148]), array([0.56481481, 0.39444444, 0.43148148]), array([0.56481481, 0.39444444, 0.43148148]), array([0.56481481, 0.39444444, 0.43148148]), array([0.56481481, 0.39444444, 0.43148148]), array([0.56481481, 0.39444444, 0.43148148]), array([0.56481481, 0.39444444, 0.43148148]), array([0.56481481, 0.39444444, 0.43148148]), array([0.56481481, 0.39444444, 0.43148148]), array([0.99629862, 0.26859028, 0.17623055]), array([0.99629862, 0.26859028, 0.17623055]), array([1.16240322, 0.33544924, 0.21658929]), array([0.81828558, 0.35943872, 0.31524752]), array([1.02444817, 0.34520943, 0.22012165]), array([0.99900548, 0.3076447 , 0.21344168]), array([0.99900548, 0.3076447 , 0.21344168]), array([0.99900548, 0.3076447 , 0.21344168]), array([0.99900548, 0.3076447 , 0.21344168]), array([0.99900548, 0.3076447 , 0.21344168]), array([0.96479507, 0.33740029, 0.235088  ]), array([0.96479507, 0.33740029, 0.235088  ]), array([0.96479507, 0.33740029, 0.235088  ]), array([0.96479507, 0.33740029, 0.235088  ]), array([0.95589703, 0.32854472, 0.23807555]), array([0.99679662, 0.31781974, 0.22063323]), array([0.99679662, 0.31781974, 0.22063323]), array([0.99679662, 0.31781974, 0.22063323]), array([0.92175722, 0.33126232, 0.23273473]), array([0.92175722, 0.33126232, 0.23273473]), array([0.92175722, 0.33126232, 0.23273473]), array([0.79850791, 0.35812706, 0.2662243 ]), array([0.8310335 , 0.35428274, 0.25068437]), array([0.65032782, 0.38373759, 0.28215179]), array([0.65032782, 0.38373759, 0.28215179]), array([0.65032782, 0.38373759, 0.28215179]), array([0.65032782, 0.38373759, 0.28215179]), array([0.65032782, 0.38373759, 0.28215179]), array([0.65032782, 0.38373759, 0.28215179]), array([0.65032782, 0.38373759, 0.28215179]), array([0.71097092, 0.37533735, 0.27459347]), array([0.72801773, 0.36887816, 0.26783267]), array([0.70590068, 0.37511574, 0.2751395 ]), array([0.68264546, 0.378424  , 0.27733684]), array([0.68264546, 0.378424  , 0.27733684]), array([0.66439415, 0.38210917, 0.28200436]), array([0.66439415, 0.38210917, 0.28200436]), array([0.66439415, 0.38210917, 0.28200436]), array([0.68411814, 0.37794425, 0.27921365]), array([0.68411814, 0.37794425, 0.27921365]), array([0.63156477, 0.38842673, 0.29125931]), array([0.65852593, 0.38363721, 0.2872228 ]), array([0.6368144, 0.385511 , 0.2909602]), array([0.6368144, 0.385511 , 0.2909602]), array([0.63231897, 0.38685367, 0.29447239]), array([0.58788649, 0.39378749, 0.30334197]), array([0.58788649, 0.39378749, 0.30334197]), array([0.58410463, 0.39328155, 0.30799577]), array([0.58410463, 0.39328155, 0.30799577]), array([0.58410463, 0.39328155, 0.30799577]), array([0.49958245, 0.40848683, 0.33401728]), array([0.49958245, 0.40848683, 0.33401728]), array([0.49958245, 0.40848683, 0.33401728]), array([0.4395522 , 0.41756477, 0.34981192]), array([0.39047773, 0.42481985, 0.36901967]), array([0.39047773, 0.42481985, 0.36901967]), array([0.45124488, 0.41616359, 0.34876495]), array([0.45124488, 0.41616359, 0.34876495]), array([0.39197604, 0.42626243, 0.36823646]), array([0.39264522, 0.42579856, 0.36926118]), array([0.40121655, 0.42378069, 0.3655536 ]), array([0.40121655, 0.42378069, 0.3655536 ]), array([0.398842  , 0.4248481 , 0.36629142]), array([0.398842  , 0.4248481 , 0.36629142]), array([0.40020938, 0.42445776, 0.36630882]), array([0.41167569, 0.42254213, 0.36213781]), array([0.40239612, 0.42386501, 0.36523314]), array([0.40239612, 0.42386501, 0.36523314]), array([0.40239612, 0.42386501, 0.36523314]), array([0.40497467, 0.42362478, 0.3643117 ]), array([0.40497467, 0.42362478, 0.3643117 ]), array([0.40644032, 0.42326826, 0.36365309]), array([0.40644032, 0.42326826, 0.36365309]), array([0.40250014, 0.42388381, 0.3649968 ]), array([0.40449843, 0.42363487, 0.36441337]), array([0.40380287, 0.42368925, 0.36462481]), array([0.4050204 , 0.42350212, 0.36416571]), array([0.4050204 , 0.42350212, 0.36416571]), array([0.40429815, 0.42364038, 0.36445494]), array([0.40429815, 0.42364038, 0.36445494]), array([0.40407545, 0.42365855, 0.36449546]), array([0.40407545, 0.42365855, 0.36449546]), array([0.40437559, 0.42362542, 0.36439221]), array([0.40437559, 0.42362542, 0.36439221]), array([0.40437559, 0.42362542, 0.36439221]), array([0.40437559, 0.42362542, 0.36439221]), array([0.40412297, 0.42365913, 0.36448459]), array([0.40412297, 0.42365913, 0.36448459]), array([0.40408463, 0.42367221, 0.36449765]), array([0.40408463, 0.42367221, 0.36449765]), array([0.40408463, 0.42367221, 0.36449765]), array([0.40424939, 0.42364412, 0.36443696]), array([0.40424939, 0.42364412, 0.36443696]), array([0.40415716, 0.42365779, 0.36446797]), array([0.40414335, 0.42365858, 0.36447606]), array([0.40414335, 0.42365858, 0.36447606]), array([0.40414335, 0.42365858, 0.36447606]), array([0.40415912, 0.42365779, 0.3644725 ]), array([0.40419909, 0.42364935, 0.36445714]), array([0.40419909, 0.42364935, 0.36445714]), array([0.40421689, 0.42364856, 0.36445177]), array([0.40421689, 0.42364856, 0.36445177]), array([0.40421689, 0.42364856, 0.36445177]), array([0.40421467, 0.42364778, 0.36445367]), array([0.40420135, 0.42364975, 0.36445694]), array([0.40424269, 0.42364326, 0.3644435 ]), array([0.40424269, 0.42364326, 0.3644435 ]), array([0.40424269, 0.42364326, 0.3644435 ]), array([0.40424269, 0.42364326, 0.3644435 ]), array([0.40424269, 0.42364326, 0.3644435 ]), array([0.40424269, 0.42364326, 0.3644435 ]), array([0.40424269, 0.42364326, 0.3644435 ]), array([0.404246  , 0.42364304, 0.36444221]), array([0.4042317 , 0.42364524, 0.36444678]), array([0.40423163, 0.42364529, 0.36444699]), array([0.40423956, 0.42364389, 0.36444442]), array([0.40423956, 0.42364389, 0.36444442]), array([0.40423441, 0.42364481, 0.36444598]), array([0.40423483, 0.42364475, 0.36444592]), array([0.40423821, 0.4236442 , 0.36444479]), array([0.40423769, 0.42364424, 0.36444499]), array([0.40423769, 0.42364424, 0.36444499]), array([0.40423769, 0.42364424, 0.36444499]), array([0.40423769, 0.42364424, 0.36444499]), array([0.40423769, 0.42364424, 0.36444499]), array([0.40423769, 0.42364424, 0.36444499]), array([0.40423573, 0.42364456, 0.36444563]), array([0.40423634, 0.42364447, 0.36444543]), array([0.40423634, 0.42364447, 0.36444543]), array([0.40423634, 0.42364447, 0.36444543]), array([0.40423634, 0.42364447, 0.36444543]), array([0.40423634, 0.42364447, 0.36444543]), array([0.40423634, 0.42364447, 0.36444543]), array([0.40423634, 0.42364447, 0.36444543]), array([0.40423665, 0.42364442, 0.36444533]), array([0.40423684, 0.42364439, 0.36444527]), array([0.40423656, 0.42364443, 0.36444536]), array([0.40423651, 0.42364444, 0.36444537]), array([0.40423663, 0.42364442, 0.36444534])]\n"
     ]
    },
    {
     "name": "stderr",
     "output_type": "stream",
     "text": [
      "\n"
     ]
    }
   ],
   "source": [
    "# function 2\n",
    "start_point = [-1,1.2,1.2]\n",
    "best_points = nelder_mead(blackbox2, start_point, n_iter=5000, eps_step=1e-7)\n",
    "print(best_points)\n",
    "np.save(\"results_black_box/fun2.npy\", best_points)"
   ]
  },
  {
   "cell_type": "code",
   "execution_count": 54,
   "id": "442fea71",
   "metadata": {},
   "outputs": [
    {
     "name": "stdout",
     "output_type": "stream",
     "text": [
      "[0.40423663 0.42364442 0.36444534] 0.454042360000015\n"
     ]
    }
   ],
   "source": [
    "best_points = np.load(\"results_black_box/fun2.npy\")\n",
    "print(best_points[-1], blackbox2(best_points[-1]))"
   ]
  },
  {
   "cell_type": "code",
   "execution_count": 49,
   "id": "a7f93668",
   "metadata": {},
   "outputs": [
    {
     "name": "stdout",
     "output_type": "stream",
     "text": [
      "[[-1, 1.2, 1.2], [0, 1.2, 1.2], [-1, 2.2, 1.2], [-1, 1.2, 2.2]]\n"
     ]
    },
    {
     "name": "stderr",
     "output_type": "stream",
     "text": [
      "  2%|▏         | 118/5000 [15:11<10:28:32,  7.72s/it]"
     ]
    },
    {
     "name": "stdout",
     "output_type": "stream",
     "text": [
      "Converged in 118 steps\n",
      "[array([0. , 1.2, 1.2]), array([0. , 1.2, 1.2]), array([0.11111111, 0.53333333, 0.64444444]), array([0.11111111, 0.53333333, 0.64444444]), array([0.11111111, 0.53333333, 0.64444444]), array([0.11111111, 0.53333333, 0.64444444]), array([0.11111111, 0.53333333, 0.64444444]), array([0.11111111, 0.53333333, 0.64444444]), array([0.11111111, 0.53333333, 0.64444444]), array([0.11111111, 0.53333333, 0.64444444]), array([0.11111111, 0.53333333, 0.64444444]), array([0.11111111, 0.53333333, 0.64444444]), array([0.64019677, 0.2318856 , 0.20107503]), array([0.54606938, 0.38609104, 0.09256269]), array([0.54606938, 0.38609104, 0.09256269]), array([0.31443592, 0.47952081, 0.45635978]), array([0.43362501, 0.51249035, 0.38059339]), array([0.43362501, 0.51249035, 0.38059339]), array([0.48700931, 0.41598513, 0.22834967]), array([0.47373842, 0.4074793 , 0.30527888]), array([0.47373842, 0.4074793 , 0.30527888]), array([0.47373842, 0.4074793 , 0.30527888]), array([0.47373842, 0.4074793 , 0.30527888]), array([0.44105658, 0.39697487, 0.30495268]), array([0.40856354, 0.41318024, 0.37493153]), array([0.40856354, 0.41318024, 0.37493153]), array([0.40856354, 0.41318024, 0.37493153]), array([0.40856354, 0.41318024, 0.37493153]), array([0.40856354, 0.41318024, 0.37493153]), array([0.40856354, 0.41318024, 0.37493153]), array([0.40856354, 0.41318024, 0.37493153]), array([0.40856354, 0.41318024, 0.37493153]), array([0.40856354, 0.41318024, 0.37493153]), array([0.42817467, 0.40302409, 0.37297772]), array([0.42912095, 0.40871496, 0.35370561]), array([0.42363207, 0.39995697, 0.35877549]), array([0.41776972, 0.40853946, 0.36837557]), array([0.42584113, 0.40438061, 0.36663164]), array([0.42584113, 0.40438061, 0.36663164]), array([0.42337911, 0.40321577, 0.36174727]), array([0.42138284, 0.40661973, 0.36544259]), array([0.42465099, 0.40562118, 0.36187855]), array([0.42448939, 0.40476642, 0.36482722]), array([0.42448939, 0.40476642, 0.36482722]), array([0.42448939, 0.40476642, 0.36482722]), array([0.42448939, 0.40476642, 0.36482722]), array([0.42416429, 0.40327265, 0.36493051]), array([0.42326453, 0.40426646, 0.36518593]), array([0.42370808, 0.40427214, 0.36393979]), array([0.42370808, 0.40427214, 0.36393979]), array([0.42370808, 0.40427214, 0.36393979]), array([0.42370808, 0.40427214, 0.36393979]), array([0.42343257, 0.40412001, 0.36479833]), array([0.42343257, 0.40412001, 0.36479833]), array([0.42343257, 0.40412001, 0.36479833]), array([0.42390343, 0.4043001 , 0.36437949]), array([0.42390343, 0.4043001 , 0.36437949]), array([0.42369694, 0.40417532, 0.36428286]), array([0.42369694, 0.40417532, 0.36428286]), array([0.42369694, 0.40417532, 0.36428286]), array([0.4235996 , 0.4041404 , 0.36460846]), array([0.42378439, 0.40420383, 0.36443721]), array([0.42378439, 0.40420383, 0.36443721]), array([0.42369377, 0.4042016 , 0.36436442]), array([0.42366079, 0.40419434, 0.36448654]), array([0.42366079, 0.40419434, 0.36448654]), array([0.42366079, 0.40419434, 0.36448654]), array([0.42366079, 0.40419434, 0.36448654]), array([0.42366079, 0.40419434, 0.36448654]), array([0.42366079, 0.40419434, 0.36448654]), array([0.4236988 , 0.40423831, 0.36439718]), array([0.42363583, 0.40421799, 0.36443094]), array([0.42363583, 0.40421799, 0.36443094]), array([0.42363583, 0.40421799, 0.36443094]), array([0.42366967, 0.40423495, 0.36441548]), array([0.42364911, 0.40424049, 0.3644153 ]), array([0.42364281, 0.40422564, 0.36445174]), array([0.42364281, 0.40422564, 0.36445174]), array([0.42364281, 0.40422564, 0.36445174]), array([0.42364281, 0.40422564, 0.36445174]), array([0.42364281, 0.40422564, 0.36445174]), array([0.42364281, 0.40422564, 0.36445174]), array([0.42364281, 0.40422564, 0.36445174]), array([0.42363385, 0.40423161, 0.36445326]), array([0.42364712, 0.40423301, 0.36444679]), array([0.42364712, 0.40423301, 0.36444679]), array([0.42364712, 0.40423301, 0.36444679]), array([0.42364712, 0.40423301, 0.36444679]), array([0.42364712, 0.40423301, 0.36444679]), array([0.42364067, 0.40423661, 0.36444508]), array([0.42364067, 0.40423661, 0.36444508]), array([0.42364067, 0.40423661, 0.36444508]), array([0.42364663, 0.40423669, 0.36444588]), array([0.42364663, 0.40423669, 0.36444588]), array([0.42364663, 0.40423669, 0.36444588]), array([0.42364663, 0.40423669, 0.36444588]), array([0.42364594, 0.40423453, 0.36444586]), array([0.4236436 , 0.40423598, 0.36444514]), array([0.4236436 , 0.40423598, 0.36444514]), array([0.4236436 , 0.40423598, 0.36444514]), array([0.4236436 , 0.40423598, 0.36444514]), array([0.42364426, 0.40423625, 0.36444657]), array([0.42364493, 0.40423604, 0.36444596]), array([0.42364493, 0.40423604, 0.36444596]), array([0.4236439 , 0.40423617, 0.36444562]), array([0.4236439 , 0.40423617, 0.36444562]), array([0.4236439 , 0.40423617, 0.36444562]), array([0.42364382, 0.40423649, 0.36444564]), array([0.42364405, 0.40423632, 0.36444536]), array([0.42364443, 0.40423618, 0.36444575]), array([0.4236443 , 0.4042365 , 0.36444555]), array([0.4236443 , 0.4042365 , 0.36444555]), array([0.4236443 , 0.4042365 , 0.36444555]), array([0.4236443 , 0.4042365 , 0.36444555]), array([0.42364452, 0.4042363 , 0.36444544]), array([0.42364456, 0.40423654, 0.36444535]), array([0.42364444, 0.40423646, 0.36444535]), array([0.42364444, 0.40423646, 0.36444535]), array([0.42364444, 0.40423646, 0.36444535])]\n"
     ]
    },
    {
     "name": "stderr",
     "output_type": "stream",
     "text": [
      "\n"
     ]
    }
   ],
   "source": [
    "# function 3\n",
    "start_point = [-1,1.2,1.2]\n",
    "best_points = nelder_mead(blackbox3, start_point, n_iter=5000, eps_step=1e-7)\n",
    "print(best_points)\n",
    "np.save(\"results_black_box/fun3.npy\", best_points)"
   ]
  },
  {
   "cell_type": "code",
   "execution_count": null,
   "id": "932870b6",
   "metadata": {},
   "outputs": [],
   "source": [
    "best_points = np.load(\"results_black_box/fun3.npy\")\n",
    "print(best_points[-1], blackbox3(best_points[-1]))"
   ]
  },
  {
   "cell_type": "markdown",
   "id": "3a115aca",
   "metadata": {},
   "source": [
    "## Jeklo Ruše revisited"
   ]
  },
  {
   "cell_type": "code",
   "execution_count": null,
   "id": "59ce0d34",
   "metadata": {},
   "outputs": [],
   "source": []
  }
 ],
 "metadata": {
  "kernelspec": {
   "display_name": "mat2",
   "language": "python",
   "name": "python3"
  },
  "language_info": {
   "codemirror_mode": {
    "name": "ipython",
    "version": 3
   },
   "file_extension": ".py",
   "mimetype": "text/x-python",
   "name": "python",
   "nbconvert_exporter": "python",
   "pygments_lexer": "ipython3",
   "version": "3.10.18"
  }
 },
 "nbformat": 4,
 "nbformat_minor": 5
}
