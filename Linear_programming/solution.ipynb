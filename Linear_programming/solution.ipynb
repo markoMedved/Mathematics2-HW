{
 "cells": [
  {
   "cell_type": "markdown",
   "id": "495ae817",
   "metadata": {},
   "source": [
    "# Homework 2"
   ]
  },
  {
   "cell_type": "markdown",
   "id": "0d711991",
   "metadata": {},
   "source": [
    "## Interior point method implementation"
   ]
  },
  {
   "cell_type": "code",
   "execution_count": 3,
   "id": "3fbff2df",
   "metadata": {},
   "outputs": [],
   "source": [
    "import numpy as np"
   ]
  },
  {
   "cell_type": "markdown",
   "id": "9e3720b1",
   "metadata": {},
   "source": [
    "### 4)"
   ]
  },
  {
   "cell_type": "code",
   "execution_count": 4,
   "id": "5d0ca9bc",
   "metadata": {},
   "outputs": [],
   "source": [
    "def next_mu(mu, m):\n",
    "    return (1.0 - 1.0/(6.0*np.sqrt(m))) * mu\n",
    "\n",
    "\n",
    "def pd_short_step_update(A, b, c, x, y, s, mu, safeguard=False, tau=0.99):\n",
    "    A = np.asarray(A, dtype=float)\n",
    "    b = np.asarray(b, dtype=float)\n",
    "    c = np.asarray(c, dtype=float)\n",
    "    x = np.asarray(x, dtype=float)\n",
    "    y = np.asarray(y, dtype=float)\n",
    "    s = np.asarray(s, dtype=float)\n",
    "\n",
    "    m, n = A.shape\n",
    "    mup = next_mu(mu, m)\n",
    "\n",
    "    r = mup - x * s  \n",
    "\n",
    "    # Build M = A * diag(x/s) * A^T\n",
    "    D = x / s\n",
    "    M = A @ (D[:, None] * A.T)  # (m,m)\n",
    "\n",
    "    # rhs = - A * (r/s)\n",
    "    rhs = - A @ (r / s)\n",
    "\n",
    "    # Solve for Δy\n",
    "    Dy = np.linalg.solve(M, rhs)\n",
    "\n",
    "    # Δs and Δx\n",
    "    Ds = - A.T @ Dy\n",
    "    Dx = (r + x * Ds) / s\n",
    "\n",
    "    # Step length \n",
    "    alpha = 1.0\n",
    "    if safeguard:\n",
    "\n",
    "        idx_neg_dx = Dx < 0\n",
    "        idx_neg_ds = Ds < 0\n",
    "        if np.any(idx_neg_dx):\n",
    "            alpha = min(alpha, tau * np.min(-x[idx_neg_dx] / Dx[idx_neg_dx]))\n",
    "        if np.any(idx_neg_ds):\n",
    "            alpha = min(alpha, tau * np.min(-s[idx_neg_ds] / Ds[idx_neg_ds]))\n",
    "        alpha = float(alpha) if alpha > 0 else 1.0  \n",
    "\n",
    "    xp = x + alpha * Dx\n",
    "    yp = y + alpha * Dy\n",
    "    sp = s + alpha * Ds\n",
    "    mup = mup  \n",
    "\n",
    "    return xp, yp, sp, mup"
   ]
  },
  {
   "cell_type": "markdown",
   "id": "1ef3a197",
   "metadata": {},
   "source": [
    "### 6) "
   ]
  },
  {
   "cell_type": "code",
   "execution_count": 6,
   "id": "df48d797",
   "metadata": {},
   "outputs": [
    {
     "name": "stdout",
     "output_type": "stream",
     "text": [
      "Ax = b ? True\n",
      "A^T y + s = c ? True\n",
      "x > 0 ? True\n",
      "s > 0 ? True\n"
     ]
    }
   ],
   "source": [
    "A = np.array([\n",
    "    [3, 3, 3, 0, 0],\n",
    "    [3, 1, 0, 1, 0],\n",
    "    [1, 4, 0, 0, 1]\n",
    "], dtype=float)\n",
    "\n",
    "b = np.array([4, 3, 4], dtype=float)\n",
    "\n",
    "c = np.array([-3, -4, 0, 0, 0], dtype=float)\n",
    "x = np.array([2/5, 8/15, 2/5, 19/15, 22/15], dtype=float)\n",
    "y = np.array([-4/5, -4/5, -2/3], dtype=float)\n",
    "s = np.array([37/15, 28/15, 12/5, 4/5, 2/3], dtype=float)\n",
    "\n",
    "# Checks\n",
    "print(\"Ax = b ?\", np.allclose(A @ x, b))\n",
    "print(\"A^T y + s = c ?\", np.allclose(A.T @ y + s, c))\n",
    "print(\"x > 0 ?\", np.all(x > 0))\n",
    "print(\"s > 0 ?\", np.all(s > 0))\n",
    "\n"
   ]
  },
  {
   "cell_type": "markdown",
   "id": "3d723a9d",
   "metadata": {},
   "source": [
    "### 7)"
   ]
  },
  {
   "cell_type": "code",
   "execution_count": null,
   "id": "b3cfd96f",
   "metadata": {},
   "outputs": [],
   "source": []
  },
  {
   "cell_type": "markdown",
   "id": "269f7030",
   "metadata": {},
   "source": [
    "### 8)"
   ]
  },
  {
   "cell_type": "code",
   "execution_count": 7,
   "id": "46197a3d",
   "metadata": {},
   "outputs": [
    {
     "data": {
      "text/plain": [
       "(array([0.32503257, 0.42457191, 0.3713288 , 1.0264696 , 1.29411642]),\n",
       " array([-0.78951181, -0.73479005, -0.6386912 ]),\n",
       " array([2.21159678, 1.6580903 , 2.36853543, 0.73479005, 0.6386912 ]),\n",
       " np.float64(0.9037749551350623))"
      ]
     },
     "execution_count": 7,
     "metadata": {},
     "output_type": "execute_result"
    }
   ],
   "source": [
    "pd_short_step_update(A, b, c, x, y, s, 1)"
   ]
  }
 ],
 "metadata": {
  "kernelspec": {
   "display_name": "mat2",
   "language": "python",
   "name": "python3"
  },
  "language_info": {
   "codemirror_mode": {
    "name": "ipython",
    "version": 3
   },
   "file_extension": ".py",
   "mimetype": "text/x-python",
   "name": "python",
   "nbconvert_exporter": "python",
   "pygments_lexer": "ipython3",
   "version": "3.10.18"
  }
 },
 "nbformat": 4,
 "nbformat_minor": 5
}
