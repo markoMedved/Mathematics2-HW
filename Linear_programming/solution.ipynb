{
 "cells": [
  {
   "cell_type": "markdown",
   "id": "495ae817",
   "metadata": {},
   "source": [
    "# Homework 2"
   ]
  },
  {
   "cell_type": "markdown",
   "id": "0d711991",
   "metadata": {},
   "source": [
    "## Interior point method implementation"
   ]
  },
  {
   "cell_type": "code",
   "execution_count": 16,
   "id": "3fbff2df",
   "metadata": {},
   "outputs": [],
   "source": [
    "import numpy as np"
   ]
  },
  {
   "cell_type": "markdown",
   "id": "9e3720b1",
   "metadata": {},
   "source": [
    "### 3)"
   ]
  },
  {
   "cell_type": "code",
   "execution_count": 17,
   "id": "5d0ca9bc",
   "metadata": {},
   "outputs": [],
   "source": [
    "# Compute 1 step of the iteration\n",
    "def interior_point_method_step(A, b, c, x, y, s, mew):\n",
    "\n",
    "    m = A.shape[1]\n",
    "    # the mew update \n",
    "    mew = (1 - 1/(6 * np.sqrt(m))) * mew\n",
    "\n",
    "    # Prepare the matrices for the Newton method\n",
    "    S_inv = np.diag(1 / s)\n",
    "    X = np.diag(x)\n",
    "    ons = np.ones(m)\n",
    "     \n",
    "    # Solve for update \n",
    "    Dy = np.linalg.solve(A @ S_inv @ X @ A.T, b - mew * A @ S_inv @ ons)\n",
    "    Ds = -A.T @ Dy\n",
    "    Dx = -X @ S_inv @ Ds + mew * S_inv @ ons - x\n",
    "\n",
    "    # Update\n",
    "    x += Dx\n",
    "    y += Dy\n",
    "    s += Ds\n",
    "\n",
    "    return x,y,s,mew\n",
    "\n"
   ]
  },
  {
   "cell_type": "markdown",
   "id": "1ef3a197",
   "metadata": {},
   "source": [
    "### 6) "
   ]
  },
  {
   "cell_type": "code",
   "execution_count": 18,
   "id": "df48d797",
   "metadata": {},
   "outputs": [
    {
     "name": "stdout",
     "output_type": "stream",
     "text": [
      "Ax = b ? True\n",
      "A^T y + s = c ? True\n",
      "x > 0 ? True\n",
      "s > 0 ? True\n"
     ]
    }
   ],
   "source": [
    "A = np.array([\n",
    "    [3, 3, 3, 0, 0],\n",
    "    [3, 1, 0, 1, 0],\n",
    "    [1, 4, 0, 0, 1]\n",
    "], dtype=float)\n",
    "\n",
    "b = np.array([4, 3, 4], dtype=float)\n",
    "\n",
    "c = np.array([-3, -4, 0, 0, 0], dtype=float)\n",
    "x = np.array([2/5, 8/15, 2/5, 19/15, 22/15], dtype=float)\n",
    "y = np.array([-4/5, -4/5, -2/3], dtype=float)\n",
    "s = np.array([37/15, 28/15, 12/5, 4/5, 2/3], dtype=float)\n",
    "mew = 1\n",
    "\n",
    "# Checks\n",
    "print(\"Ax = b ?\", np.allclose(A @ x, b))\n",
    "print(\"A^T y + s = c ?\", np.allclose(A.T @ y + s, c))\n",
    "print(\"x > 0 ?\", np.all(x > 0))\n",
    "print(\"s > 0 ?\", np.all(s > 0))"
   ]
  },
  {
   "cell_type": "markdown",
   "id": "3d723a9d",
   "metadata": {},
   "source": [
    "### 7)"
   ]
  },
  {
   "cell_type": "code",
   "execution_count": 19,
   "id": "b3cfd96f",
   "metadata": {},
   "outputs": [
    {
     "name": "stdout",
     "output_type": "stream",
     "text": [
      "0.0016232448664881226\n"
     ]
    },
    {
     "data": {
      "text/plain": [
       "np.float64(0.002469135802469144)"
      ]
     },
     "execution_count": 19,
     "metadata": {},
     "output_type": "execute_result"
    }
   ],
   "source": [
    "# mew = avg\n",
    "print(np.sum((x * s/np.mean(x * s) - 1)**2))\n",
    "\n",
    "# mew = 1\n",
    "np.sum((x * s/1 - 1)**2)"
   ]
  },
  {
   "cell_type": "markdown",
   "id": "269f7030",
   "metadata": {},
   "source": [
    "### 8)"
   ]
  },
  {
   "cell_type": "code",
   "execution_count": 15,
   "id": "46197a3d",
   "metadata": {},
   "outputs": [
    {
     "ename": "KeyboardInterrupt",
     "evalue": "",
     "output_type": "error",
     "traceback": [
      "\u001b[1;31m---------------------------------------------------------------------------\u001b[0m",
      "\u001b[1;31mKeyboardInterrupt\u001b[0m                         Traceback (most recent call last)",
      "Cell \u001b[1;32mIn[15], line 8\u001b[0m\n\u001b[0;32m      5\u001b[0m \u001b[38;5;28;01mwhile\u001b[39;00m \u001b[38;5;28;01mTrue\u001b[39;00m:\n\u001b[0;32m      6\u001b[0m     x_new, y_new, s, mew \u001b[38;5;241m=\u001b[39m interior_point_method_step(A, b, c, x, y, s, mew)\n\u001b[1;32m----> 8\u001b[0m     \u001b[38;5;28;01mif\u001b[39;00m \u001b[43mnp\u001b[49m\u001b[38;5;241;43m.\u001b[39;49m\u001b[43mlinalg\u001b[49m\u001b[38;5;241;43m.\u001b[39;49m\u001b[43mnorm\u001b[49m\u001b[43m(\u001b[49m\u001b[43mx_new\u001b[49m\u001b[43m \u001b[49m\u001b[38;5;241;43m-\u001b[39;49m\u001b[43m \u001b[49m\u001b[43mx\u001b[49m\u001b[43m)\u001b[49m \u001b[38;5;241m<\u001b[39m epsilon \u001b[38;5;129;01mand\u001b[39;00m np\u001b[38;5;241m.\u001b[39mlinalg\u001b[38;5;241m.\u001b[39mnorm(y_new \u001b[38;5;241m-\u001b[39m y) \u001b[38;5;241m<\u001b[39m epsilon:\n\u001b[0;32m      9\u001b[0m         \u001b[38;5;28;01mbreak\u001b[39;00m\n\u001b[0;32m     11\u001b[0m     x \u001b[38;5;241m=\u001b[39m x_new\n",
      "File \u001b[1;32mc:\\Users\\marko\\miniconda3\\envs\\mat2\\lib\\site-packages\\numpy\\linalg\\_linalg.py:2744\u001b[0m, in \u001b[0;36mnorm\u001b[1;34m(x, ord, axis, keepdims)\u001b[0m\n\u001b[0;32m   2742\u001b[0m     sqnorm \u001b[38;5;241m=\u001b[39m x_real\u001b[38;5;241m.\u001b[39mdot(x_real) \u001b[38;5;241m+\u001b[39m x_imag\u001b[38;5;241m.\u001b[39mdot(x_imag)\n\u001b[0;32m   2743\u001b[0m \u001b[38;5;28;01melse\u001b[39;00m:\n\u001b[1;32m-> 2744\u001b[0m     sqnorm \u001b[38;5;241m=\u001b[39m \u001b[43mx\u001b[49m\u001b[38;5;241;43m.\u001b[39;49m\u001b[43mdot\u001b[49m\u001b[43m(\u001b[49m\u001b[43mx\u001b[49m\u001b[43m)\u001b[49m\n\u001b[0;32m   2745\u001b[0m ret \u001b[38;5;241m=\u001b[39m sqrt(sqnorm)\n\u001b[0;32m   2746\u001b[0m \u001b[38;5;28;01mif\u001b[39;00m keepdims:\n",
      "\u001b[1;31mKeyboardInterrupt\u001b[0m: "
     ]
    }
   ],
   "source": [
    "# Iterating until convergence\n",
    "epsilon = 1e-8\n",
    "i = 0\n",
    "\n",
    "while True:\n",
    "    x_new, y_new, s, mew = interior_point_method_step(A, b, c, x, y, s, mew)\n",
    "    \n",
    "    if np.linalg.norm(x_new - x) < epsilon and np.linalg.norm(y_new - y) < epsilon:\n",
    "        break\n",
    "\n",
    "    x = x_new\n",
    "    y= y_new\n",
    "    i+=1\n",
    "\n",
    "\n",
    "print(\"Optimal x:\", x)\n",
    "print(f\"y: {y}\")\n",
    "print(f\"s: {s}\")\n",
    "print(f\"mew: {mew}\")\n",
    "print(f\"it took {i} iterations\")"
   ]
  }
 ],
 "metadata": {
  "kernelspec": {
   "display_name": "mat2",
   "language": "python",
   "name": "python3"
  },
  "language_info": {
   "codemirror_mode": {
    "name": "ipython",
    "version": 3
   },
   "file_extension": ".py",
   "mimetype": "text/x-python",
   "name": "python",
   "nbconvert_exporter": "python",
   "pygments_lexer": "ipython3",
   "version": "3.10.18"
  }
 },
 "nbformat": 4,
 "nbformat_minor": 5
}
