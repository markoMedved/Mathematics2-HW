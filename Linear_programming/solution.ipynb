{
 "cells": [
  {
   "cell_type": "markdown",
   "id": "495ae817",
   "metadata": {},
   "source": [
    "# Homework 2"
   ]
  },
  {
   "cell_type": "markdown",
   "id": "0d711991",
   "metadata": {},
   "source": [
    "## Interior point method implementation"
   ]
  },
  {
   "cell_type": "code",
   "execution_count": 186,
   "id": "3fbff2df",
   "metadata": {},
   "outputs": [],
   "source": [
    "import numpy as np"
   ]
  },
  {
   "cell_type": "markdown",
   "id": "9e3720b1",
   "metadata": {},
   "source": [
    "### 3)"
   ]
  },
  {
   "cell_type": "code",
   "execution_count": 187,
   "id": "5d0ca9bc",
   "metadata": {},
   "outputs": [],
   "source": [
    "# Compute 1 step of the iteration\n",
    "def interior_point_method_step(A, b, c, x, y, s, mew):\n",
    "\n",
    "    m = x.shape[0]\n",
    "\n",
    "    # the mew update \n",
    "    mew_new = (1 - 1/(6 * np.sqrt(m))) * mew\n",
    "\n",
    "    # Prepare the matrices for the Newton method\n",
    "    S_inv = np.linalg.inv(np.diag(s))\n",
    "    X = np.diag(x)\n",
    "    e = np.ones_like(x)\n",
    "     \n",
    "    # Solve for update \n",
    "    k = np.linalg.inv(A @ S_inv @ X @ A.T) @ (b - mew_new * A @ S_inv @e)\n",
    "    f = -A.T @ k\n",
    "    h = -X @ S_inv @ f + mew_new * S_inv @ e - x\n",
    "\n",
    "    # Update\n",
    "    x_new = x + h\n",
    "    y_new = y + k\n",
    "    s_new = s + f\n",
    "\n",
    "    return x_new, y_new, s_new, mew_new\n",
    "\n"
   ]
  },
  {
   "cell_type": "markdown",
   "id": "1ef3a197",
   "metadata": {},
   "source": [
    "### 6) "
   ]
  },
  {
   "cell_type": "code",
   "execution_count": 188,
   "id": "df48d797",
   "metadata": {},
   "outputs": [
    {
     "name": "stdout",
     "output_type": "stream",
     "text": [
      "Ax = b ? True\n",
      "A^T y + s = c ? True\n",
      "x > 0 ? True\n",
      "s > 0 ? True\n"
     ]
    }
   ],
   "source": [
    "A = np.array([\n",
    "    [3, 3, 3, 0, 0],\n",
    "    [3, 1, 0, 1, 0],\n",
    "    [1, 4, 0, 0, 1]\n",
    "], dtype=float)\n",
    "\n",
    "b = np.array([4, 3, 4], dtype=float)\n",
    "\n",
    "c = np.array([-3, -4, 0, 0, 0], dtype=float)\n",
    "x = np.array([2/5, 8/15, 2/5, 19/15, 22/15], dtype=float)\n",
    "y = np.array([-4/5, -4/5, -2/3], dtype=float)\n",
    "s = np.array([37/15, 28/15, 12/5, 4/5, 2/3], dtype=float)\n",
    "mew = 1\n",
    "\n",
    "# Checks\n",
    "print(\"Ax = b ?\", np.allclose(A @ x, b))\n",
    "print(\"A^T y + s = c ?\", np.allclose(A.T @ y + s, c))\n",
    "print(\"x > 0 ?\", np.all(x > 0))\n",
    "print(\"s > 0 ?\", np.all(s > 0))"
   ]
  },
  {
   "cell_type": "markdown",
   "id": "3d723a9d",
   "metadata": {},
   "source": [
    "### 7)"
   ]
  },
  {
   "cell_type": "code",
   "execution_count": 189,
   "id": "b3cfd96f",
   "metadata": {},
   "outputs": [
    {
     "name": "stdout",
     "output_type": "stream",
     "text": [
      "0.0016232448664881226\n"
     ]
    },
    {
     "data": {
      "text/plain": [
       "np.float64(0.002469135802469144)"
      ]
     },
     "execution_count": 189,
     "metadata": {},
     "output_type": "execute_result"
    }
   ],
   "source": [
    "# mew = avg\n",
    "print(np.sum((x * s/np.mean(x * s) - 1)**2))\n",
    "\n",
    "# mew = 1\n",
    "np.sum((x * s/1 - 1)**2)"
   ]
  },
  {
   "cell_type": "markdown",
   "id": "269f7030",
   "metadata": {},
   "source": [
    "### 8)"
   ]
  },
  {
   "cell_type": "code",
   "execution_count": 190,
   "id": "46197a3d",
   "metadata": {},
   "outputs": [
    {
     "name": "stdout",
     "output_type": "stream",
     "text": [
      "Optimal x: [4.44444464e-01 8.88888854e-01 1.48994134e-08 7.77777753e-01\n",
      " 1.19195297e-07]\n",
      "y: [-8.88888861e-01 -5.10837032e-08 -3.33333352e-01]\n",
      "s: [8.27332543e-08 4.13666304e-08 2.66666659e+00 4.72761487e-08\n",
      " 3.33333351e-01]\n",
      "mew: 3.677033676890448e-08\n",
      "it took 220 iterations\n"
     ]
    }
   ],
   "source": [
    "# Iterating until convergence\n",
    "epsilon = 1e-8\n",
    "i = 0\n",
    "\n",
    "while True:\n",
    "    x_new, y_new, s, mew = interior_point_method_step(A, b, c, x, y, s, mew)\n",
    "    \n",
    "    if np.linalg.norm(x_new - x) < epsilon and np.linalg.norm(y_new - y) < epsilon:\n",
    "        break\n",
    "\n",
    "    x = x_new\n",
    "    y= y_new\n",
    "    i+=1\n",
    "\n",
    "\n",
    "print(\"Optimal x:\", x)\n",
    "print(f\"y: {y}\")\n",
    "print(f\"s: {s}\")\n",
    "print(f\"mew: {mew}\")\n",
    "print(f\"it took {i} iterations\")"
   ]
  },
  {
   "cell_type": "markdown",
   "id": "78d21861",
   "metadata": {},
   "source": [
    "### 9)"
   ]
  },
  {
   "cell_type": "code",
   "execution_count": 230,
   "id": "53f774e0",
   "metadata": {},
   "outputs": [],
   "source": [
    "# Compute 1 step of the iteration\n",
    "def interior_point_method_step_impr(A, b, c, x, y, s, mew, sigma = 0.5):\n",
    "\n",
    "    m = x.shape[0]\n",
    "\n",
    "    # the mew update \n",
    "    mew_new = (x @ s) / m       \n",
    "\n",
    "    # Reduce mew as much as possible while staying in central path neighborhood\n",
    "    mew_new = sigma * mew_new\n",
    "\n",
    "    # mew_new = (1 - 1/(6 * np.sqrt(m))) * mew\n",
    "\n",
    "    # Prepare the matrices for the Newton method\n",
    "    S_inv = np.linalg.inv(np.diag(s))\n",
    "    X = np.diag(x)\n",
    "    e = np.ones_like(x)\n",
    "     \n",
    "    # Solve for update \n",
    "    k = np.linalg.inv(A @ S_inv @ X @ A.T) @ (b - mew_new * A @ S_inv @e)\n",
    "    f = -A.T @ k\n",
    "    h = -X @ S_inv @ f + mew_new * S_inv @ e - x\n",
    "\n",
    "    # Update\n",
    "    x_new = x + h\n",
    "    y_new = y + k\n",
    "    s_new = s + f\n",
    "\n",
    "    assert np.all(x_new > 0), \"x went non-positive!\"\n",
    "    assert np.all(s_new > 0), \"s went non-positive!\"\n",
    "\n",
    "    central_path_error = np.sum((x_new * s_new/np.mean(x_new * s_new) - 1)**2)\n",
    "    assert central_path_error <= 0.25 * mew_new, \"central path invariant violated\"\n",
    "\n",
    "    return x_new, y_new, s_new, mew_new"
   ]
  },
  {
   "cell_type": "code",
   "execution_count": 233,
   "id": "028e3ea0",
   "metadata": {},
   "outputs": [
    {
     "name": "stdout",
     "output_type": "stream",
     "text": [
      "Optimal x: [4.44444447e-01 8.88888884e-01 2.28980231e-09 7.77777774e-01\n",
      " 1.83184184e-08]\n",
      "y: [-8.88888885e-01 -7.85075078e-09 -3.33333336e-01]\n",
      "s: [8.24328828e-09 4.12164416e-09 2.66666666e+00 4.71045046e-09\n",
      " 3.33333335e-01]\n",
      "mew: 3.6636836884238276e-09\n",
      "it took 37 iterations\n"
     ]
    }
   ],
   "source": [
    "# Iterating until convergence\n",
    "epsilon = 1e-8\n",
    "i = 0\n",
    "\n",
    "A = np.array([\n",
    "    [3, 3, 3, 0, 0],\n",
    "    [3, 1, 0, 1, 0],\n",
    "    [1, 4, 0, 0, 1]\n",
    "], dtype=float)\n",
    "\n",
    "b = np.array([4, 3, 4], dtype=float)\n",
    "\n",
    "c = np.array([-3, -4, 0, 0, 0], dtype=float)\n",
    "x = np.array([2/5, 8/15, 2/5, 19/15, 22/15], dtype=float)\n",
    "y = np.array([-4/5, -4/5, -2/3], dtype=float)\n",
    "s = np.array([37/15, 28/15, 12/5, 4/5, 2/3], dtype=float)\n",
    "mew = 1\n",
    "\n",
    "while True:\n",
    "    x_new, y_new, s, mew = interior_point_method_step_impr(A, b, c, x, y, s, mew, sigma=0.6)\n",
    "    \n",
    "    if np.linalg.norm(x_new - x) < epsilon and np.linalg.norm(y_new - y) < epsilon:\n",
    "        break\n",
    "\n",
    "    x = x_new\n",
    "    y= y_new\n",
    "    i+=1\n",
    "\n",
    "\n",
    "print(\"Optimal x:\", x)\n",
    "print(f\"y: {y}\")\n",
    "print(f\"s: {s}\")\n",
    "print(f\"mew: {mew}\")\n",
    "print(f\"it took {i} iterations\")"
   ]
  },
  {
   "cell_type": "markdown",
   "id": "4bc9eddc",
   "metadata": {},
   "source": [
    "## 10)"
   ]
  },
  {
   "cell_type": "code",
   "execution_count": 252,
   "id": "82264007",
   "metadata": {},
   "outputs": [
    {
     "name": "stdout",
     "output_type": "stream",
     "text": [
      "Optimal x: [0.44444492 0.88888806 0.         0.77777718 0.        ]\n",
      "y: [-8.88888226e-01 -1.22330363e-06 -3.33333792e-01]\n",
      "s: [0.         0.         2.66666468 0.         0.33333379]\n",
      "mew: 9.514576555798441e-07\n",
      "it took 4 iterations\n"
     ]
    }
   ],
   "source": [
    "# Iterating until convergence\n",
    "epsilon = 1e-8\n",
    "i = 0\n",
    "\n",
    "A = np.array([\n",
    "    [3, 3, 3, 0, 0],\n",
    "    [3, 1, 0, 1, 0],\n",
    "    [1, 4, 0, 0, 1]\n",
    "], dtype=float)\n",
    "\n",
    "b = np.array([4, 3, 4], dtype=float)\n",
    "\n",
    "c = np.array([-3, -4, 0, 0, 0], dtype=float)\n",
    "x = np.array([2/5, 8/15, 2/5, 19/15, 22/15], dtype=float)\n",
    "y = np.array([-4/5, -4/5, -2/3], dtype=float)\n",
    "s = np.array([37/15, 28/15, 12/5, 4/5, 2/3], dtype=float)\n",
    "mew = 1\n",
    "\n",
    "while True:\n",
    "    x_new, y_new, s, mew = interior_point_method_step(A, b, c, x, y, s, mew)\n",
    "    \n",
    "    if np.linalg.norm(x_new - x) < epsilon and np.linalg.norm(y_new - y) < epsilon:\n",
    "        break\n",
    "\n",
    "    x = x_new\n",
    "    y= y_new\n",
    "\n",
    "    if mew < 1e-6:\n",
    "        for i in range(len(x)):\n",
    "            if x[i] < s[i]:\n",
    "                x[i] = 0\n",
    "            else:\n",
    "                s[i] = 0\n",
    "        break\n",
    "\n",
    "    i+=1\n",
    "\n",
    "\n",
    "print(\"Optimal x:\", x)\n",
    "print(f\"y: {y}\")\n",
    "print(f\"s: {s}\")\n",
    "print(f\"mew: {mew}\")\n",
    "print(f\"it took {i} iterations\")"
   ]
  },
  {
   "cell_type": "markdown",
   "id": "9857ea25",
   "metadata": {},
   "source": [
    "## 11)"
   ]
  },
  {
   "cell_type": "code",
   "execution_count": 283,
   "id": "9fb9b8aa",
   "metadata": {},
   "outputs": [
    {
     "name": "stdout",
     "output_type": "stream",
     "text": [
      "=== Exact solution ===\n",
      "x = [0.44444444 0.88888889 0.         0.77777778 0.        ]\n",
      "s = [0.         0.         2.66666667 0.         0.33333333]\n",
      "y = [-0.88888889  0.         -0.33333333]\n",
      "\n",
      "=== Feasibility & optimality diagnostics ===\n",
      "||Ax - b||              = 0.0\n",
      "||A^T y + s - c||      = 0.0\n",
      "max |x_i * s_i|        = 0.0\n",
      "Nonnegativity holds?   = True\n",
      "Objective gap |c^T x - b^T y| = 0.0\n"
     ]
    }
   ],
   "source": [
    "import sympy as sp\n",
    "import numpy as np\n",
    "\n",
    "\n",
    "n = 5  \n",
    "m = 3\n",
    "\n",
    "\n",
    "x = sp.symbols(f'x1:{n+1}')\n",
    "s = sp.symbols(f's1:{n+1}')\n",
    "y = sp.symbols(f'y1:{m+1}')\n",
    "\n",
    "A = sp.Matrix([\n",
    "    [3, 3, 3, 0, 0],\n",
    "    [3, 1, 0, 1, 0],\n",
    "    [1, 4, 0, 0, 1]\n",
    "])\n",
    "b = sp.Matrix([4, 3, 4])\n",
    "c = sp.Matrix([-3, -4, 0, 0, 0])\n",
    "\n",
    "eqs = []\n",
    "\n",
    "\n",
    "for i in range(m):\n",
    "    eqs.append(sum(A[i,j]*x[j] for j in range(n)) - b[i])\n",
    "\n",
    "\n",
    "for j in range(n):\n",
    "    eqs.append(sum(A[i,j]*y[i] for i in range(m)) + s[j] - c[j])\n",
    "\n",
    "\n",
    "heuristic_constraints = [\n",
    "    x[2], x[4], \n",
    "    s[0], s[1], s[3]         \n",
    "]\n",
    "for constr in heuristic_constraints:\n",
    "    eqs.append(constr)\n",
    "\n",
    "# Solve symbolically\n",
    "vars_to_solve = list(x) + list(s) + list(y)\n",
    "solution = sp.solve(eqs, vars_to_solve, dict=True)\n",
    "\n",
    "sol = solution[0]  # dict from Symbol -> value\n",
    "\n",
    "# Convert to decimals\n",
    "sol_decimal = {k: float(v.evalf()) for k, v in sol.items()}\n",
    "\n",
    "# Extract back into arrays using the original symbol lists\n",
    "x_sol = np.array([sol_decimal[xi] for xi in x])\n",
    "s_sol = np.array([sol_decimal[si] for si in s])\n",
    "y_sol = np.array([sol_decimal[yi] for yi in y])\n",
    "\n",
    "# Convert A, b, c to numpy for numeric checks\n",
    "A_np = np.array(A.tolist(), dtype=float)\n",
    "b_np = np.array(b.tolist(), dtype=float).reshape(-1)\n",
    "c_np = np.array(c.tolist(), dtype=float).reshape(-1)\n",
    "\n",
    "# Feasibility and optimality checks\n",
    "primal_residual = np.linalg.norm(A_np @ x_sol - b_np)\n",
    "dual_residual   = np.linalg.norm(A_np.T @ y_sol + s_sol - c_np)\n",
    "comp_max        = np.max(np.abs(x_sol * s_sol))\n",
    "nonnegativity   = (np.all(x_sol >= -1e-12) and np.all(s_sol >= -1e-12))\n",
    "\n",
    "primal_obj = float(c_np @ x_sol)       # c^T x (minimize)\n",
    "dual_obj   = float(b_np @ y_sol)       # b^T y (maximize dual)\n",
    "\n",
    "print(\"=== Exact solution ===\")\n",
    "print(\"x =\", np.round(x_sol, 10))\n",
    "print(\"s =\", np.round(s_sol, 10))\n",
    "print(\"y =\", np.round(y_sol, 10))\n",
    "print()\n",
    "print(\"=== Feasibility & optimality diagnostics ===\")\n",
    "print(\"||Ax - b||              =\", primal_residual)\n",
    "print(\"||A^T y + s - c||      =\", dual_residual)\n",
    "print(\"max |x_i * s_i|        =\", comp_max)\n",
    "print(\"Nonnegativity holds?   =\", nonnegativity)\n",
    "print(\"Objective gap |c^T x - b^T y| =\", abs(primal_obj - dual_obj))\n",
    "\n",
    "\n"
   ]
  },
  {
   "cell_type": "markdown",
   "id": "6aa0e289",
   "metadata": {},
   "source": [
    "## Comercial solver"
   ]
  },
  {
   "cell_type": "code",
   "execution_count": 88,
   "id": "67c44c22",
   "metadata": {},
   "outputs": [],
   "source": [
    "from scipy.optimize import linprog"
   ]
  },
  {
   "cell_type": "code",
   "execution_count": 98,
   "id": "c480c9e4",
   "metadata": {},
   "outputs": [
    {
     "name": "stdout",
     "output_type": "stream",
     "text": [
      "Simplex:\n",
      "  x: [0.44444444 0.88888889 0.         0.77777778 0.        ]  fun: -4.888888888888888  iterations: 3\n",
      "Interior-point:\n",
      "  x: [4.44444444e-01 8.88888889e-01 2.08281533e-13 7.77777778e-01\n",
      " 1.89801273e-14]  fun: -4.888888888891923  iterations: 5\n"
     ]
    },
    {
     "name": "stderr",
     "output_type": "stream",
     "text": [
      "C:\\Users\\marko\\AppData\\Local\\Temp\\ipykernel_16992\\1015956755.py:17: DeprecationWarning: `method='simplex'` is deprecated and will be removed in SciPy 1.11.0. Please use one of the HiGHS solvers (e.g. `method='highs'`) in new code.\n",
      "  res_simplex = linprog(c =c,A_eq=A, b_eq = b, method = \"simplex\")\n",
      "C:\\Users\\marko\\AppData\\Local\\Temp\\ipykernel_16992\\1015956755.py:20: DeprecationWarning: `method='interior-point'` is deprecated and will be removed in SciPy 1.11.0. Please use one of the HiGHS solvers (e.g. `method='highs'`) in new code.\n",
      "  res_interior = linprog(c =c,A_eq=A, b_eq = b, method = \"interior-point\")\n"
     ]
    }
   ],
   "source": [
    "A = np.array([\n",
    "    [3, 3, 3, 0, 0],\n",
    "    [3, 1, 0, 1, 0],\n",
    "    [1, 4, 0, 0, 1]\n",
    "], dtype=float)\n",
    "\n",
    "b = np.array([4, 3, 4], dtype=float)\n",
    "\n",
    "c = np.array([-3, -4, 0, 0, 0], dtype=float)\n",
    "x = np.array([2/5, 8/15, 2/5, 19/15, 22/15], dtype=float)\n",
    "y = np.array([-4/5, -4/5, -2/3], dtype=float)\n",
    "s = np.array([37/15, 28/15, 12/5, 4/5, 2/3], dtype=float)\n",
    "mew = 1\n",
    "\n",
    "\n",
    "# simplex \n",
    "res_simplex = linprog(c =c,A_eq=A, b_eq = b, method = \"simplex\")\n",
    "\n",
    "# interior\n",
    "res_interior = linprog(c =c,A_eq=A, b_eq = b, method = \"interior-point\")\n",
    "\n",
    "# Rsults\n",
    "print(\"Simplex:\")\n",
    "print(\"  x:\", res_simplex.x, \" fun:\", res_simplex.fun, \" iterations:\", res_simplex.nit)\n",
    "\n",
    "print(\"Interior-point:\")\n",
    "print(\"  x:\", res_interior.x, \" fun:\", res_interior.fun, \" iterations:\", res_interior.nit)"
   ]
  }
 ],
 "metadata": {
  "kernelspec": {
   "display_name": "mat2",
   "language": "python",
   "name": "python3"
  },
  "language_info": {
   "codemirror_mode": {
    "name": "ipython",
    "version": 3
   },
   "file_extension": ".py",
   "mimetype": "text/x-python",
   "name": "python",
   "nbconvert_exporter": "python",
   "pygments_lexer": "ipython3",
   "version": "3.10.18"
  }
 },
 "nbformat": 4,
 "nbformat_minor": 5
}
